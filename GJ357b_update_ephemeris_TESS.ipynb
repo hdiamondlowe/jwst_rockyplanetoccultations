{
 "cells": [
  {
   "cell_type": "code",
   "execution_count": 6,
   "id": "aafaebb9",
   "metadata": {},
   "outputs": [],
   "source": [
    "import numpy as np\n",
    "import lightkurve as lk\n",
    "import matplotlib.pyplot as plt\n",
    "from astropy.io import fits\n",
    "import exoplanet as xo\n",
    "import pymc3 as pm\n",
    "import aesara_theano_fallback.tensor as tt\n",
    "import astropy.units as u\n",
    "\n",
    "import pymc3_ext as pmx\n",
    "from celerite2.theano import terms, GaussianProcess"
   ]
  },
  {
   "cell_type": "code",
   "execution_count": null,
   "id": "d1ae8727",
   "metadata": {},
   "outputs": [],
   "source": [
    "hostname = \"GJ 357\""
   ]
  },
  {
   "cell_type": "code",
   "execution_count": 7,
   "id": "7a7a1aec",
   "metadata": {},
   "outputs": [],
   "source": [
    "sectors = lk.search_lightcurve(hostname, author='SPOC')"
   ]
  },
  {
   "cell_type": "code",
   "execution_count": 8,
   "id": "fe1d00af",
   "metadata": {},
   "outputs": [
    {
     "data": {
      "text/html": [
       "SearchResult containing 5 data products.\n",
       "\n",
       "<table id=\"table139631720587616\">\n",
       "<thead><tr><th>#</th><th>mission</th><th>year</th><th>author</th><th>exptime</th><th>target_name</th><th>distance</th></tr></thead>\n",
       "<thead><tr><th></th><th></th><th></th><th></th><th>s</th><th></th><th>arcsec</th></tr></thead>\n",
       "<tr><td>0</td><td>TESS Sector 08</td><td>2019</td><td><a href='https://heasarc.gsfc.nasa.gov/docs/tess/pipeline.html'>SPOC</a></td><td>120</td><td>413248763</td><td>0.0</td></tr>\n",
       "<tr><td>1</td><td>TESS Sector 35</td><td>2021</td><td><a href='https://heasarc.gsfc.nasa.gov/docs/tess/pipeline.html'>SPOC</a></td><td>20</td><td>413248763</td><td>0.0</td></tr>\n",
       "<tr><td>2</td><td>TESS Sector 35</td><td>2021</td><td><a href='https://heasarc.gsfc.nasa.gov/docs/tess/pipeline.html'>SPOC</a></td><td>120</td><td>413248763</td><td>0.0</td></tr>\n",
       "<tr><td>3</td><td>TESS Sector 62</td><td>2023</td><td><a href='https://heasarc.gsfc.nasa.gov/docs/tess/pipeline.html'>SPOC</a></td><td>20</td><td>413248763</td><td>0.0</td></tr>\n",
       "<tr><td>4</td><td>TESS Sector 62</td><td>2023</td><td><a href='https://heasarc.gsfc.nasa.gov/docs/tess/pipeline.html'>SPOC</a></td><td>120</td><td>413248763</td><td>0.0</td></tr>\n",
       "</table>"
      ],
      "text/plain": [
       "SearchResult containing 5 data products.\n",
       "\n",
       " #     mission     year author exptime target_name distance\n",
       "                                  s                 arcsec \n",
       "--- -------------- ---- ------ ------- ----------- --------\n",
       "  0 TESS Sector 08 2019   SPOC     120   413248763      0.0\n",
       "  1 TESS Sector 35 2021   SPOC      20   413248763      0.0\n",
       "  2 TESS Sector 35 2021   SPOC     120   413248763      0.0\n",
       "  3 TESS Sector 62 2023   SPOC      20   413248763      0.0\n",
       "  4 TESS Sector 62 2023   SPOC     120   413248763      0.0"
      ]
     },
     "execution_count": 8,
     "metadata": {},
     "output_type": "execute_result"
    }
   ],
   "source": [
    "sectors"
   ]
  },
  {
   "cell_type": "code",
   "execution_count": 9,
   "id": "5f3cf94c",
   "metadata": {},
   "outputs": [
    {
     "data": {
      "text/plain": [
       "True"
      ]
     },
     "execution_count": 9,
     "metadata": {},
     "output_type": "execute_result"
    }
   ],
   "source": [
    "sector_numbers = []\n",
    "for sector in sectors.mission: sector_numbers.append(int(sector[-2:]))\n",
    "sector_numbers = np.array(sector_numbers)\n",
    "np.argwhere(sector_numbers==62).shape[0]\n",
    "sectors.exptime[0].value == 120"
   ]
  },
  {
   "cell_type": "code",
   "execution_count": 10,
   "id": "554a96bd",
   "metadata": {},
   "outputs": [
    {
     "name": "stderr",
     "output_type": "stream",
     "text": [
      "/home/hannah/programs/anaconda3/lib/python3.8/site-packages/lightkurve/search.py:407: LightkurveWarning: Warning: 2 files available to download. Only the first file has been downloaded. Please use `download_all()` or specify additional criteria (e.g. quarter, campaign, or sector) to limit your search.\n",
      "  warnings.warn(\n",
      "Warning: 21% (21135/100699) of the cadences will be ignored due to the quality mask (quality_bitmask=65535).\n",
      "/home/hannah/programs/anaconda3/lib/python3.8/site-packages/lightkurve/search.py:407: LightkurveWarning: Warning: 2 files available to download. Only the first file has been downloaded. Please use `download_all()` or specify additional criteria (e.g. quarter, campaign, or sector) to limit your search.\n",
      "  warnings.warn(\n"
     ]
    }
   ],
   "source": [
    "times, fluxes = [], []\n",
    "for i, secnum in enumerate(sector_numbers): \n",
    "    nsectors = np.argwhere(sector_numbers==secnum).shape[0]\n",
    "    # kludgey way to get high cadence data if it exists, otherwise just normal data\n",
    "    if nsectors == 1: lc_file = lk.search_lightcurve(hostname, sector=secnum,\n",
    "                                   author=\"SPOC\"\n",
    "                                  ).download(quality_bitmask=\"hardest\", flux_column=\"pdcsap_flux\")\n",
    "    else: \n",
    "        if sectors.exptime[i].value == 120: continue\n",
    "        else: lc_file = lk.search_lightcurve(hostname, sector=secnum,\n",
    "                                   author=\"SPOC\"\n",
    "                                  ).download(quality_bitmask=\"hardest\", flux_column=\"pdcsap_flux\")\n",
    "    lc = lc_file.remove_nans().normalize().remove_outliers()\n",
    "    time = lc.time.value\n",
    "    flux = lc.flux\n",
    "    \n",
    "    times.append(time)\n",
    "    fluxes.append(flux)"
   ]
  },
  {
   "cell_type": "code",
   "execution_count": 11,
   "id": "dbe3da13",
   "metadata": {},
   "outputs": [
    {
     "data": {
      "text/plain": [
       "[array([1517.83203947, 1517.8334284 , 1517.83481734, ..., 1542.00180513,\n",
       "        1542.003194  , 1542.00458288]),\n",
       " array([2255.66815312, 2255.6683846 , 2255.66861609, ..., 2279.9839563 ,\n",
       "        2279.98418777, 2279.98441925]),\n",
       " array([2989.4442639 , 2989.44449539, 2989.44472687, ..., 3014.15739426,\n",
       "        3014.15762574, 3014.15785721])]"
      ]
     },
     "execution_count": 11,
     "metadata": {},
     "output_type": "execute_result"
    }
   ],
   "source": [
    "times"
   ]
  },
  {
   "cell_type": "code",
   "execution_count": 12,
   "id": "c73a9f83",
   "metadata": {},
   "outputs": [],
   "source": [
    "time = np.hstack(times)\n",
    "flux = np.hstack(fluxes)"
   ]
  },
  {
   "cell_type": "code",
   "execution_count": 15,
   "id": "3f019a39",
   "metadata": {},
   "outputs": [
    {
     "data": {
      "text/plain": [
       "0.0002314814814814815"
      ]
     },
     "execution_count": 15,
     "metadata": {},
     "output_type": "execute_result"
    },
    {
     "data": {
      "image/png": "[encoded data removed]",
      "text/plain": [
       "<Figure size 1080x432 with 1 Axes>"
      ]
     },
     "metadata": {
      "needs_background": "light"
     },
     "output_type": "display_data"
    }
   ],
   "source": [
    "with fits.open(lc_file.filename) as hdu:\n",
    "    hdr = hdu[1].header\n",
    "\n",
    "texp = hdr[\"FRAMETIM\"] * hdr[\"NUM_FRM\"]\n",
    "texp /= 60.0 * 60.0 * 24.0\n",
    "\n",
    "ref_time = 0.5 * (np.min(time) + np.max(time))\n",
    "x = np.ascontiguousarray(time, dtype=np.float64)\n",
    "y = np.ascontiguousarray(flux - 1.0, dtype=np.float64)\n",
    "\n",
    "%matplotlib inline\n",
    "plt.figure(figsize=(15, 6))\n",
    "plt.title(f'TESS data of {hostname}')\n",
    "plt.plot(x, y, \".k\", alpha=0.2)\n",
    "plt.xlabel(\"time [days]\")\n",
    "plt.ylabel(\"relative flux [ppt]\")\n",
    "_ = plt.xlim(x.min(), x.max())\n",
    "\n",
    "texp"
   ]
  },
  {
   "cell_type": "code",
   "execution_count": 16,
   "id": "b709625a",
   "metadata": {},
   "outputs": [
    {
     "data": {
      "text/plain": [
       "(1517.8320394705943, 3014.1578572118287)"
      ]
     },
     "execution_count": 16,
     "metadata": {},
     "output_type": "execute_result"
    },
    {
     "data": {
      "image/png": "[encoded data removed]",
      "text/plain": [
       "<Figure size 1080x432 with 1 Axes>"
      ]
     },
     "metadata": {
      "needs_background": "light"
     },
     "output_type": "display_data"
    }
   ],
   "source": [
    "# priors\n",
    "T0        = 2458517.99862-2457000\n",
    "T0_unc    = 0.00039\n",
    "P         = 3.93072\n",
    "P_unc     = 0.00007\n",
    "Rp_Rs     = 0.0331\n",
    "Rp_Rs_unc = 0.0009\n",
    "depth     = Rp_Rs**2\n",
    "depth_unc = 2*Rp_Rs*Rp_Rs_unc\n",
    "R_pl      = (Rp_Rs * 0.337*u.R_sun).to(u.R_earth).value\n",
    "\n",
    "plt.figure(figsize=(15, 6))\n",
    "plt.title(f'TESS data of {hostname} with predicted transit times')\n",
    "plt.plot(x, y, 'k.', alpha=0.3)\n",
    "n = np.arange(0, 1000)\n",
    "t = T0 + n*P\n",
    "plt.plot(t, [0 for i in t], '.', color='C0', zorder=1000)\n",
    "plt.xlim(x[0], x[-1])"
   ]
  },
  {
   "cell_type": "code",
   "execution_count": 17,
   "id": "551f2549",
   "metadata": {},
   "outputs": [],
   "source": [
    "phase_lc = np.linspace(-0.3, 0.3, 100)\n",
    "\n",
    "\n",
    "def build_model(mask=None, start=None):\n",
    "    if mask is None:\n",
    "        mask = np.ones(len(x), dtype=bool)\n",
    "    with pm.Model() as model:\n",
    "\n",
    "        # Parameters for the stellar properties\n",
    "        mean = pm.Normal(\"mean\", mu=0.0, sd=0.001)\n",
    "        u_star = xo.QuadLimbDark(\"u_star\")\n",
    "        star = xo.LimbDarkLightCurve(u_star)\n",
    "\n",
    "        # Stellar parameters from Luque (2019)\n",
    "        M_star = 0.342, 0.011\n",
    "        R_star = 0.337, 0.015\n",
    "        #BoundedNormal = pm.Bound(pm.Normal, lower=0, upper=0.5)\n",
    "        #m_star = BoundedNormal(\n",
    "        #    \"m_star\", mu=M_star[0], sd=M_star[1]\n",
    "        #)\n",
    "        #r_star = BoundedNormal(\n",
    "        #    \"r_star\", mu=R_star[0], sd=R_star[1]\n",
    "        #)\n",
    "        m_star, r_star = M_star[0], R_star[0]\n",
    "\n",
    "        # Orbital parameters for the planets\n",
    "        t0 = pm.Normal(\"t0\", mu=T0, sd=T0_unc)\n",
    "        log_period = pm.Normal(\"log_period\", mu=np.log(P), sd=P_unc)\n",
    "        period = pm.Deterministic(\"period\", tt.exp(log_period))\n",
    "        \n",
    "        # Fit in terms of transit depth (assuming b<1)\n",
    "        b = pm.Uniform(\"b\", lower=0, upper=1)\n",
    "        log_depth = pm.Normal(\"log_depth\", mu=np.log(depth), sigma=depth_unc)\n",
    "        ror = pm.Deterministic(\n",
    "            \"ror\",\n",
    "            star.get_ror_from_approx_transit_depth(\n",
    "                tt.exp(log_depth), b\n",
    "            ),\n",
    "        )\n",
    "        r_pl = pm.Deterministic(\"r_pl\", ror * r_star)\n",
    "        \n",
    "        #         log_r_pl = pm.Normal(\n",
    "        #             \"log_r_pl\",\n",
    "        #             sd=1.0,\n",
    "        #             mu=0.5 * np.log(1e-3 * np.array(bls_depth))\n",
    "        #             + np.log(R_star_huang[0]),\n",
    "        #         )\n",
    "        #         r_pl = pm.Deterministic(\"r_pl\", tt.exp(log_r_pl))\n",
    "        #         ror = pm.Deterministic(\"ror\", r_pl / r_star)\n",
    "        #         b = xo.distributions.ImpactParameter(\"b\", ror=ror)\n",
    "\n",
    "        ecs = pmx.UnitDisk(\"ecs\", testval=np.array([0.01, 0.0]))\n",
    "        ecc = pm.Deterministic(\"ecc\", tt.sum(ecs**2))\n",
    "        omega = pm.Deterministic(\"omega\", tt.arctan2(ecs[1], ecs[0]))\n",
    "        xo.eccentricity.kipping13(\"ecc_prior\", fixed=True, observed=ecc)\n",
    "        \n",
    "        # Transit jitter & GP parameters\n",
    "        log_sigma_lc = pm.Normal(\n",
    "            \"log_sigma_lc\", mu=np.log(np.std(y[mask])), sd=0.1\n",
    "        )\n",
    "        log_rho_gp = pm.Normal(\"log_rho_gp\", mu=0, sd=0.01)\n",
    "        log_sigma_gp = pm.Normal(\n",
    "            \"log_sigma_gp\", mu=np.log(np.std(y[mask])), sd=0.1\n",
    "        )\n",
    "\n",
    "        # Orbit model\n",
    "        orbit = xo.orbits.KeplerianOrbit(\n",
    "            r_star=r_star,\n",
    "            m_star=m_star,\n",
    "            period=period,\n",
    "            t0=t0,\n",
    "            b=b,\n",
    "            ecc=ecc,\n",
    "            omega=omega,\n",
    "        )\n",
    "\n",
    "        # Compute the model light curve\n",
    "        light_curves = (\n",
    "            star.get_light_curve(orbit=orbit, r=r_pl, t=x[mask], texp=texp)\n",
    "        )\n",
    "        light_curve = tt.sum(light_curves, axis=-1) + mean\n",
    "        resid = y[mask] - light_curve\n",
    "\n",
    "        # GP model for the light curve\n",
    "        kernel = terms.Matern32Term(\n",
    "            sigma=tt.exp(log_sigma_gp),\n",
    "            rho=tt.exp(log_rho_gp),\n",
    "        )\n",
    "        gp = GaussianProcess(kernel, t=x[mask], yerr=tt.exp(log_sigma_lc))\n",
    "        gp.marginal(\"gp\", observed=resid)\n",
    "        #         pm.Deterministic(\"gp_pred\", gp.predict(resid))\n",
    "\n",
    "        # Compute and save the phased light curve models\n",
    "        pm.Deterministic(\n",
    "            \"lc_pred\",\n",
    "            star.get_light_curve(\n",
    "                orbit=orbit, r=r_pl, t=t0 + phase_lc, texp=texp\n",
    "            )[..., 0],\n",
    "        )\n",
    "\n",
    "        # Fit for the maximum a posteriori parameters, I've found that I can get\n",
    "        # a better solution by trying different combinations of parameters in turn\n",
    "        if start is None:\n",
    "            start = model.test_point\n",
    "        map_soln = pmx.optimize(\n",
    "            start=start, vars=[log_sigma_lc, log_sigma_gp, log_rho_gp]\n",
    "        )\n",
    "        #map_soln = pmx.optimize(start=map_soln, vars=[log_depth])\n",
    "        map_soln = pmx.optimize(start=map_soln, vars=[b])\n",
    "        map_soln = pmx.optimize(start=map_soln, vars=[log_period, t0])\n",
    "        map_soln = pmx.optimize(start=map_soln, vars=[u_star])\n",
    "        #map_soln = pmx.optimize(start=map_soln, vars=[log_depth])\n",
    "        map_soln = pmx.optimize(start=map_soln, vars=[b])\n",
    "        map_soln = pmx.optimize(start=map_soln, vars=[ecs])\n",
    "        map_soln = pmx.optimize(start=map_soln, vars=[mean])\n",
    "        map_soln = pmx.optimize(\n",
    "            start=map_soln, vars=[log_sigma_lc, log_sigma_gp, log_rho_gp]\n",
    "        )\n",
    "        map_soln = pmx.optimize(start=map_soln)\n",
    "\n",
    "        extras = dict(\n",
    "            zip(\n",
    "                [\"light_curves\", \"gp_pred\"],\n",
    "                pmx.eval_in_model([light_curves, gp.predict(resid)], map_soln),\n",
    "            )\n",
    "        )\n",
    "\n",
    "    return model, map_soln, extras\n"
   ]
  },
  {
   "cell_type": "code",
   "execution_count": 18,
   "id": "c5eef6d0",
   "metadata": {},
   "outputs": [
    {
     "name": "stderr",
     "output_type": "stream",
     "text": [
      "optimizing logp for variables: [log_rho_gp, log_sigma_gp, log_sigma_lc]\n"
     ]
    },
    {
     "data": {
      "text/html": [
       "\n",
       "    <div>\n",
       "        <style>\n",
       "            /* Turns off some styling */\n",
       "            progress {\n",
       "                /* gets rid of default border in Firefox and Opera. */\n",
       "                border: none;\n",
       "                /* Needs to be in here for Safari polyfill so background images work as expected. */\n",
       "                background-size: auto;\n",
       "            }\n",
       "            .progress-bar-interrupted, .progress-bar-interrupted::-webkit-progress-bar {\n",
       "                background: #F44336;\n",
       "            }\n",
       "        </style>\n",
       "      <progress value='13' class='' max='13' style='width:300px; height:20px; vertical-align: middle;'></progress>\n",
       "      100.00% [13/13 00:00<00:00 logp = 9.941e+05]\n",
       "    </div>\n",
       "    "
      ],
      "text/plain": [
       "<IPython.core.display.HTML object>"
      ]
     },
     "metadata": {},
     "output_type": "display_data"
    },
    {
     "name": "stdout",
     "output_type": "stream",
     "text": [
      "\n"
     ]
    },
    {
     "name": "stderr",
     "output_type": "stream",
     "text": [
      "message: Optimization terminated successfully.\n",
      "logp: 994012.935764799 -> 994106.6373491742\n",
      "optimizing logp for variables: [b]\n"
     ]
    },
    {
     "data": {
      "text/html": [
       "\n",
       "    <div>\n",
       "        <style>\n",
       "            /* Turns off some styling */\n",
       "            progress {\n",
       "                /* gets rid of default border in Firefox and Opera. */\n",
       "                border: none;\n",
       "                /* Needs to be in here for Safari polyfill so background images work as expected. */\n",
       "                background-size: auto;\n",
       "            }\n",
       "            .progress-bar-interrupted, .progress-bar-interrupted::-webkit-progress-bar {\n",
       "                background: #F44336;\n",
       "            }\n",
       "        </style>\n",
       "      <progress value='8' class='' max='8' style='width:300px; height:20px; vertical-align: middle;'></progress>\n",
       "      100.00% [8/8 00:00<00:00 logp = 9.941e+05]\n",
       "    </div>\n",
       "    "
      ],
      "text/plain": [
       "<IPython.core.display.HTML object>"
      ]
     },
     "metadata": {},
     "output_type": "display_data"
    },
    {
     "name": "stdout",
     "output_type": "stream",
     "text": [
      "\n"
     ]
    },
    {
     "name": "stderr",
     "output_type": "stream",
     "text": [
      "message: Optimization terminated successfully.\n",
      "logp: 994106.6373491742 -> 994119.6606529313\n",
      "optimizing logp for variables: [t0, log_period]\n"
     ]
    },
    {
     "data": {
      "text/html": [
       "\n",
       "    <div>\n",
       "        <style>\n",
       "            /* Turns off some styling */\n",
       "            progress {\n",
       "                /* gets rid of default border in Firefox and Opera. */\n",
       "                border: none;\n",
       "                /* Needs to be in here for Safari polyfill so background images work as expected. */\n",
       "                background-size: auto;\n",
       "            }\n",
       "            .progress-bar-interrupted, .progress-bar-interrupted::-webkit-progress-bar {\n",
       "                background: #F44336;\n",
       "            }\n",
       "        </style>\n",
       "      <progress value='80' class='' max='80' style='width:300px; height:20px; vertical-align: middle;'></progress>\n",
       "      100.00% [80/80 00:04<00:00 logp = 9.950e+05]\n",
       "    </div>\n",
       "    "
      ],
      "text/plain": [
       "<IPython.core.display.HTML object>"
      ]
     },
     "metadata": {},
     "output_type": "display_data"
    },
    {
     "name": "stdout",
     "output_type": "stream",
     "text": [
      "\n"
     ]
    },
    {
     "name": "stderr",
     "output_type": "stream",
     "text": [
      "message: Desired error not necessarily achieved due to precision loss.\n",
      "logp: 994119.660652931 -> 994966.1293469492\n",
      "optimizing logp for variables: [u_star]\n"
     ]
    },
    {
     "data": {
      "text/html": [
       "\n",
       "    <div>\n",
       "        <style>\n",
       "            /* Turns off some styling */\n",
       "            progress {\n",
       "                /* gets rid of default border in Firefox and Opera. */\n",
       "                border: none;\n",
       "                /* Needs to be in here for Safari polyfill so background images work as expected. */\n",
       "                background-size: auto;\n",
       "            }\n",
       "            .progress-bar-interrupted, .progress-bar-interrupted::-webkit-progress-bar {\n",
       "                background: #F44336;\n",
       "            }\n",
       "        </style>\n",
       "      <progress value='12' class='' max='12' style='width:300px; height:20px; vertical-align: middle;'></progress>\n",
       "      100.00% [12/12 00:00<00:00 logp = 9.950e+05]\n",
       "    </div>\n",
       "    "
      ],
      "text/plain": [
       "<IPython.core.display.HTML object>"
      ]
     },
     "metadata": {},
     "output_type": "display_data"
    },
    {
     "name": "stdout",
     "output_type": "stream",
     "text": [
      "\n"
     ]
    },
    {
     "name": "stderr",
     "output_type": "stream",
     "text": [
      "message: Optimization terminated successfully.\n",
      "logp: 994966.129346949 -> 994969.1225522946\n",
      "optimizing logp for variables: [b]\n"
     ]
    },
    {
     "data": {
      "text/html": [
       "\n",
       "    <div>\n",
       "        <style>\n",
       "            /* Turns off some styling */\n",
       "            progress {\n",
       "                /* gets rid of default border in Firefox and Opera. */\n",
       "                border: none;\n",
       "                /* Needs to be in here for Safari polyfill so background images work as expected. */\n",
       "                background-size: auto;\n",
       "            }\n",
       "            .progress-bar-interrupted, .progress-bar-interrupted::-webkit-progress-bar {\n",
       "                background: #F44336;\n",
       "            }\n",
       "        </style>\n",
       "      <progress value='9' class='' max='9' style='width:300px; height:20px; vertical-align: middle;'></progress>\n",
       "      100.00% [9/9 00:00<00:00 logp = 9.950e+05]\n",
       "    </div>\n",
       "    "
      ],
      "text/plain": [
       "<IPython.core.display.HTML object>"
      ]
     },
     "metadata": {},
     "output_type": "display_data"
    },
    {
     "name": "stdout",
     "output_type": "stream",
     "text": [
      "\n"
     ]
    },
    {
     "name": "stderr",
     "output_type": "stream",
     "text": [
      "message: Optimization terminated successfully.\n",
      "logp: 994969.1225522946 -> 994971.7925635587\n",
      "optimizing logp for variables: [ecs]\n"
     ]
    },
    {
     "data": {
      "text/html": [
       "\n",
       "    <div>\n",
       "        <style>\n",
       "            /* Turns off some styling */\n",
       "            progress {\n",
       "                /* gets rid of default border in Firefox and Opera. */\n",
       "                border: none;\n",
       "                /* Needs to be in here for Safari polyfill so background images work as expected. */\n",
       "                background-size: auto;\n",
       "            }\n",
       "            .progress-bar-interrupted, .progress-bar-interrupted::-webkit-progress-bar {\n",
       "                background: #F44336;\n",
       "            }\n",
       "        </style>\n",
       "      <progress value='14' class='' max='14' style='width:300px; height:20px; vertical-align: middle;'></progress>\n",
       "      100.00% [14/14 00:00<00:00 logp = 9.950e+05]\n",
       "    </div>\n",
       "    "
      ],
      "text/plain": [
       "<IPython.core.display.HTML object>"
      ]
     },
     "metadata": {},
     "output_type": "display_data"
    },
    {
     "name": "stdout",
     "output_type": "stream",
     "text": [
      "\n"
     ]
    },
    {
     "name": "stderr",
     "output_type": "stream",
     "text": [
      "message: Optimization terminated successfully.\n",
      "logp: 994971.7925635587 -> 994972.3770937179\n",
      "optimizing logp for variables: [mean]\n"
     ]
    },
    {
     "data": {
      "text/html": [
       "\n",
       "    <div>\n",
       "        <style>\n",
       "            /* Turns off some styling */\n",
       "            progress {\n",
       "                /* gets rid of default border in Firefox and Opera. */\n",
       "                border: none;\n",
       "                /* Needs to be in here for Safari polyfill so background images work as expected. */\n",
       "                background-size: auto;\n",
       "            }\n",
       "            .progress-bar-interrupted, .progress-bar-interrupted::-webkit-progress-bar {\n",
       "                background: #F44336;\n",
       "            }\n",
       "        </style>\n",
       "      <progress value='4' class='' max='4' style='width:300px; height:20px; vertical-align: middle;'></progress>\n",
       "      100.00% [4/4 00:00<00:00 logp = 9.950e+05]\n",
       "    </div>\n",
       "    "
      ],
      "text/plain": [
       "<IPython.core.display.HTML object>"
      ]
     },
     "metadata": {},
     "output_type": "display_data"
    },
    {
     "name": "stdout",
     "output_type": "stream",
     "text": [
      "\n"
     ]
    },
    {
     "name": "stderr",
     "output_type": "stream",
     "text": [
      "message: Optimization terminated successfully.\n",
      "logp: 994972.377093718 -> 994972.4062320088\n",
      "optimizing logp for variables: [log_rho_gp, log_sigma_gp, log_sigma_lc]\n"
     ]
    },
    {
     "data": {
      "text/html": [
       "\n",
       "    <div>\n",
       "        <style>\n",
       "            /* Turns off some styling */\n",
       "            progress {\n",
       "                /* gets rid of default border in Firefox and Opera. */\n",
       "                border: none;\n",
       "                /* Needs to be in here for Safari polyfill so background images work as expected. */\n",
       "                background-size: auto;\n",
       "            }\n",
       "            .progress-bar-interrupted, .progress-bar-interrupted::-webkit-progress-bar {\n",
       "                background: #F44336;\n",
       "            }\n",
       "        </style>\n",
       "      <progress value='12' class='' max='12' style='width:300px; height:20px; vertical-align: middle;'></progress>\n",
       "      100.00% [12/12 00:00<00:00 logp = 9.950e+05]\n",
       "    </div>\n",
       "    "
      ],
      "text/plain": [
       "<IPython.core.display.HTML object>"
      ]
     },
     "metadata": {},
     "output_type": "display_data"
    },
    {
     "name": "stdout",
     "output_type": "stream",
     "text": [
      "\n"
     ]
    },
    {
     "name": "stderr",
     "output_type": "stream",
     "text": [
      "message: Optimization terminated successfully.\n",
      "logp: 994972.4062320088 -> 994976.7495448622\n",
      "optimizing logp for variables: [log_sigma_gp, log_rho_gp, log_sigma_lc, ecs, log_depth, b, log_period, t0, u_star, mean]\n"
     ]
    },
    {
     "data": {
      "text/html": [
       "\n",
       "    <div>\n",
       "        <style>\n",
       "            /* Turns off some styling */\n",
       "            progress {\n",
       "                /* gets rid of default border in Firefox and Opera. */\n",
       "                border: none;\n",
       "                /* Needs to be in here for Safari polyfill so background images work as expected. */\n",
       "                background-size: auto;\n",
       "            }\n",
       "            .progress-bar-interrupted, .progress-bar-interrupted::-webkit-progress-bar {\n",
       "                background: #F44336;\n",
       "            }\n",
       "        </style>\n",
       "      <progress value='98' class='' max='98' style='width:300px; height:20px; vertical-align: middle;'></progress>\n",
       "      100.00% [98/98 00:07<00:00 logp = 9.950e+05]\n",
       "    </div>\n",
       "    "
      ],
      "text/plain": [
       "<IPython.core.display.HTML object>"
      ]
     },
     "metadata": {},
     "output_type": "display_data"
    },
    {
     "name": "stdout",
     "output_type": "stream",
     "text": [
      "\n"
     ]
    },
    {
     "name": "stderr",
     "output_type": "stream",
     "text": [
      "message: Desired error not necessarily achieved due to precision loss.\n",
      "logp: 994976.7495448622 -> 994984.3741126873\n"
     ]
    }
   ],
   "source": [
    "%matplotlib inline\n",
    "model0, map_soln0, extras0 = build_model()"
   ]
  },
  {
   "cell_type": "code",
   "execution_count": 24,
   "id": "3d2cb10d",
   "metadata": {},
   "outputs": [
    {
     "name": "stdout",
     "output_type": "stream",
     "text": [
      "Using matplotlib backend: Qt5Agg\n"
     ]
    }
   ],
   "source": [
    "%matplotlib\n",
    "def plot_light_curve(soln, extras, mask=None):\n",
    "    if mask is None:\n",
    "        mask = np.ones(len(x), dtype=bool)\n",
    "\n",
    "    fig, axes = plt.subplots(3, 1, figsize=(15, 7), sharex=True)\n",
    "\n",
    "    ax = axes[0]\n",
    "    ax.plot(x[mask], y[mask], \"k\", label=\"data\")\n",
    "    gp_mod = extras[\"gp_pred\"] + soln[\"mean\"]\n",
    "    ax.plot(x[mask], gp_mod, color=\"C2\", label=\"gp model\")\n",
    "    ax.plot(t, [0 for i in t], '.', color='C2', zorder=1000)\n",
    "    ax.legend(fontsize=10)\n",
    "    ax.set_ylabel(\"relative flux [ppt]\")\n",
    "\n",
    "    ax = axes[1]\n",
    "    ax.plot(x[mask], y[mask] - gp_mod, \"k\", label=\"de-trended data\")\n",
    "    for i, l in enumerate(\"b\"):\n",
    "        mod = extras[\"light_curves\"][:, i]\n",
    "        ax.plot(x[mask], mod, label=\"planet {0}\".format(l))\n",
    "    #ax.plot(t, [0 for i in t], '.', color='C0', zorder=1000)\n",
    "    ax.legend(fontsize=10, loc=3)\n",
    "    ax.set_ylabel(\"de-trended flux [ppt]\")\n",
    "\n",
    "    ax = axes[2]\n",
    "    mod = gp_mod + np.sum(extras[\"light_curves\"], axis=-1)\n",
    "    ax.plot(x[mask], y[mask] - mod, \"k\")\n",
    "    ax.axhline(0, color=\"#aaaaaa\", lw=1)\n",
    "    ax.set_ylabel(\"residuals [ppt]\")\n",
    "    ax.set_xlim(x[mask].min(), x[mask].max())\n",
    "    ax.set_xlabel(\"time [days]\")\n",
    "\n",
    "    return fig\n",
    "\n",
    "\n",
    "_ = plot_light_curve(map_soln0, extras0)"
   ]
  },
  {
   "cell_type": "code",
   "execution_count": 25,
   "id": "631a0fc2",
   "metadata": {},
   "outputs": [],
   "source": [
    "#mod = (\n",
    "#    extras0[\"gp_pred\"]\n",
    "#    + map_soln0[\"mean\"]\n",
    "#    + np.sum(extras0[\"light_curves\"], axis=-1)\n",
    "#)\n",
    "#resid = y - mod\n",
    "#rms = np.sqrt(np.median(resid**2))\n",
    "#mask = np.abs(resid) < 7 * rms\n",
    "\n",
    "#plt.figure(figsize=(10, 5))\n",
    "#plt.plot(x, resid, \"k\", label=\"data\")\n",
    "#plt.plot(x[~mask], resid[~mask], \"xr\", label=\"outliers\")\n",
    "#plt.axhline(0, color=\"#aaaaaa\", lw=1)\n",
    "#plt.ylabel(\"residuals [ppt]\")\n",
    "#plt.xlabel(\"time [days]\")\n",
    "#plt.legend(fontsize=12, loc=3)\n",
    "#_ = plt.xlim(x.min(), x.max())"
   ]
  },
  {
   "cell_type": "code",
   "execution_count": 26,
   "id": "d910af2d",
   "metadata": {},
   "outputs": [],
   "source": [
    "#model, map_soln, extras = build_model(mask, map_soln0)\n",
    "#_ = plot_light_curve(map_soln, extras, mask)"
   ]
  },
  {
   "cell_type": "code",
   "execution_count": null,
   "id": "d47cce06",
   "metadata": {},
   "outputs": [],
   "source": []
  },
  {
   "cell_type": "code",
   "execution_count": null,
   "id": "553ce421",
   "metadata": {
    "scrolled": true
   },
   "outputs": [
    {
     "name": "stderr",
     "output_type": "stream",
     "text": [
      "Auto-assigning NUTS sampler...\n",
      "Initializing NUTS using jitter+adapt_diag...\n",
      "Sequential sampling (2 chains in 1 job)\n",
      "NUTS: [log_sigma_gp, log_rho_gp, log_sigma_lc, ecs, log_depth, b, log_period, t0, u_star, mean]\n"
     ]
    },
    {
     "data": {
      "text/html": [
       "\n",
       "    <div>\n",
       "        <style>\n",
       "            /* Turns off some styling */\n",
       "            progress {\n",
       "                /* gets rid of default border in Firefox and Opera. */\n",
       "                border: none;\n",
       "                /* Needs to be in here for Safari polyfill so background images work as expected. */\n",
       "                background-size: auto;\n",
       "            }\n",
       "            .progress-bar-interrupted, .progress-bar-interrupted::-webkit-progress-bar {\n",
       "                background: #F44336;\n",
       "            }\n",
       "        </style>\n",
       "      <progress value='911' class='' max='1500' style='width:300px; height:20px; vertical-align: middle;'></progress>\n",
       "      60.73% [911/1500 1:02:07<40:10 Sampling chain 0, 0 divergences]\n",
       "    </div>\n",
       "    "
      ],
      "text/plain": [
       "<IPython.core.display.HTML object>"
      ]
     },
     "metadata": {},
     "output_type": "display_data"
    }
   ],
   "source": [
    "with model0:\n",
    "    trace = pm.sample(\n",
    "        tune=500,\n",
    "        draws=1000,\n",
    "        start=map_soln0,\n",
    "        cores=1,\n",
    "        chains=2,\n",
    "        #target_accept=0.95,\n",
    "        return_inferencedata=True,\n",
    "    )"
   ]
  },
  {
   "cell_type": "code",
   "execution_count": null,
   "id": "c47f9f02",
   "metadata": {},
   "outputs": [],
   "source": [
    "import arviz as az\n",
    "\n",
    "az.summary(\n",
    "    trace,\n",
    "    var_names=[\n",
    "        \"omega\",\n",
    "        \"ecc\",\n",
    "        \"r_pl\",\n",
    "        \"b\",\n",
    "        \"t0\",\n",
    "        \"period\",\n",
    "        #\"r_star\",\n",
    "        #\"m_star\",\n",
    "        \"u_star\",\n",
    "        \"mean\",\n",
    "    ],\n",
    ")"
   ]
  },
  {
   "cell_type": "code",
   "execution_count": null,
   "id": "befc0603",
   "metadata": {},
   "outputs": [],
   "source": [
    "%matplotlib inline\n",
    "flat_samps = trace.posterior.stack(sample=(\"chain\", \"draw\"))\n",
    "\n",
    "# Compute the GP prediction\n",
    "gp_mod = extras0[\"gp_pred\"] + map_soln0[\"mean\"]  # np.median(\n",
    "#     flat_samps[\"gp_pred\"].values + flat_samps[\"mean\"].values[None, :], axis=-1\n",
    "# )\n",
    "\n",
    "# Get the posterior median orbital parameters\n",
    "p = np.median(flat_samps[\"period\"])\n",
    "t0 = np.median(flat_samps[\"t0\"])\n",
    "\n",
    "# Plot the folded data\n",
    "x_fold = (x - t0 + 0.5 * p) % p - 0.5 * p\n",
    "plt.plot(x_fold, y - gp_mod, \".k\", alpha=0.5, label=\"data\", zorder=-1000)\n",
    "\n",
    "# Overplot the phase binned light curve\n",
    "bins = np.linspace(-0.41, 0.41, 50)\n",
    "denom, _ = np.histogram(x_fold, bins)\n",
    "num, _ = np.histogram(x_fold, bins, weights=y)\n",
    "denom[num == 0] = 1.0\n",
    "plt.plot(\n",
    "    0.5 * (bins[1:] + bins[:-1]), num / denom, \"o\", color=\"C2\", label=\"binned\"\n",
    ")\n",
    "\n",
    "# Plot the folded model\n",
    "pred = np.percentile(flat_samps[\"lc_pred\"], [16, 50, 84], axis=-1)\n",
    "plt.plot(phase_lc, pred[1], color=\"C1\", label=\"model\")\n",
    "art = plt.fill_between(\n",
    "    phase_lc, pred[0], pred[2], color=\"C1\", alpha=0.5, zorder=1000\n",
    ")\n",
    "art.set_edgecolor(\"none\")\n",
    "\n",
    "# Annotate the plot with the planet's period\n",
    "txt = \"period = {0:.8f} +/- {1:.8f} d\".format(\n",
    "    np.mean(flat_samps[\"period\"].values), np.std(flat_samps[\"period\"].values)\n",
    ")\n",
    "plt.annotate(\n",
    "    txt,\n",
    "    (0, 0),\n",
    "    xycoords=\"axes fraction\",\n",
    "    xytext=(5, 5),\n",
    "    textcoords=\"offset points\",\n",
    "    ha=\"left\",\n",
    "    va=\"bottom\",\n",
    "    fontsize=12,\n",
    ")\n",
    "\n",
    "plt.legend(fontsize=10, loc=4)\n",
    "plt.xlim(-0.5 * p, 0.5 * p)\n",
    "plt.xlabel(\"time since transit [days]\")\n",
    "plt.ylabel(\"de-trended flux\")\n",
    "_ = plt.xlim(-0.15, 0.15)"
   ]
  },
  {
   "cell_type": "code",
   "execution_count": null,
   "id": "60388896",
   "metadata": {},
   "outputs": [],
   "source": [
    "print(\"Period:\")\n",
    "print(\"    \", np.median(flat_samps[\"period\"]), '+/-', np.std(flat_samps[\"period\"]))\n",
    "print(\"T0:\")\n",
    "print(\"    \", np.median(flat_samps[\"t0\"])+2457000, '+/-', np.std(flat_samps[\"t0\"]))"
   ]
  },
  {
   "cell_type": "code",
   "execution_count": null,
   "id": "2756ae32",
   "metadata": {},
   "outputs": [],
   "source": [
    "import corner\n",
    "import astropy.units as u\n",
    "\n",
    "trace.posterior[\"r_earth\"] = (\n",
    "    trace.posterior[\"r_pl\"].coords,\n",
    "    (trace.posterior[\"r_pl\"].values * u.R_sun).to(u.R_earth).value,\n",
    ")\n",
    "\n",
    "_ = corner.corner(\n",
    "    trace,\n",
    "    var_names=[\"t0\", \"period\", \"r_earth\", \"b\", \"ecc\"],\n",
    "    labels=[\n",
    "        \"t0 [days]\",\n",
    "        \"period [days]\",\n",
    "        \"radius [Earth radii]\",\n",
    "        \"impact param\",\n",
    "        \"eccentricity\",\n",
    "    ],\n",
    ")"
   ]
  },
  {
   "cell_type": "code",
   "execution_count": null,
   "id": "4f1189d1",
   "metadata": {},
   "outputs": [],
   "source": []
  }
 ],
 "metadata": {
  "kernelspec": {
   "display_name": "Python 3",
   "language": "python",
   "name": "python3"
  },
  "language_info": {
   "codemirror_mode": {
    "name": "ipython",
    "version": 3
   },
   "file_extension": ".py",
   "mimetype": "text/x-python",
   "name": "python",
   "nbconvert_exporter": "python",
   "pygments_lexer": "ipython3",
   "version": "3.8.8"
  }
 },
 "nbformat": 4,
 "nbformat_minor": 5
}
