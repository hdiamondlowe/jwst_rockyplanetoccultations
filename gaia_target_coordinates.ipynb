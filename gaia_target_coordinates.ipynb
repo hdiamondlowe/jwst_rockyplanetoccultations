{
 "cells": [
  {
   "cell_type": "code",
   "execution_count": 20,
   "id": "d1604555",
   "metadata": {},
   "outputs": [],
   "source": [
    "import astropy.units as u\n",
    "from astropy.coordinates.sky_coordinate import SkyCoord\n",
    "from astropy.units import Quantity\n",
    "from astroquery.gaia import Gaia\n",
    "from astroquery.simbad import Simbad\n",
    "from astropy.time import Time\n",
    "from astropy.io import ascii"
   ]
  },
  {
   "cell_type": "code",
   "execution_count": 2,
   "id": "ea2b62c5",
   "metadata": {},
   "outputs": [],
   "source": [
    "import matplotlib.pyplot as plt\n",
    "import numpy as np\n",
    "\n",
    "# Suppress warnings. Comment this out if you wish to see the warning messages\n",
    "#import warnings\n",
    "#warnings.filterwarnings('ignore')"
   ]
  },
  {
   "cell_type": "code",
   "execution_count": 3,
   "id": "78862b5a",
   "metadata": {},
   "outputs": [
    {
     "data": {
      "text/html": [
       "<div><i>Table length=9</i>\n",
       "<table id=\"table140517240783104\" class=\"table-striped table-bordered table-condensed\">\n",
       "<thead><tr><th>hostname</th><th>pl_name</th><th>sy_dist</th><th>rastr</th><th>decstr</th><th>sy_kmag</th><th>st_mass</th><th>st_rad</th><th>st_raderr1</th><th>st_raderr2</th><th>st_teff</th><th>pl_tranmid</th><th>pl_tranmiderr1</th><th>pl_tranmiderr2</th><th>pl_rade</th><th>pl_radeerr1</th><th>pl_radeerr2</th><th>pl_bmasse</th><th>pl_bmasseerr1</th><th>pl_bmasseerr2</th><th>pl_orbper</th><th>pl_orbpererr1</th><th>pl_orbpererr2</th><th>pl_orbsmax</th><th>pl_orbincl</th><th>pl_orbeccen</th><th>pl_orbeccenerr1</th><th>pl_orbeccenerr2</th><th>tran_flag</th><th>rv_flag</th><th>pl_rp_rs</th><th>pl_g</th><th>pl_teq_a0</th><th>pl_s</th><th>pl_rho</th><th>filter</th><th>subarray</th><th>nobs</th><th>ngroup</th><th>frac_fullwell</th></tr></thead>\n",
       "<thead><tr><th>str9</th><th>str11</th><th>float64</th><th>str12</th><th>str13</th><th>float64</th><th>float64</th><th>float64</th><th>float64</th><th>float64</th><th>float64</th><th>float64</th><th>float64</th><th>float64</th><th>float64</th><th>float64</th><th>float64</th><th>float64</th><th>float64</th><th>float64</th><th>float64</th><th>float64</th><th>float64</th><th>float64</th><th>float64</th><th>float64</th><th>float64</th><th>float64</th><th>int64</th><th>int64</th><th>float64</th><th>float64</th><th>float64</th><th>float64</th><th>float64</th><th>str6</th><th>str6</th><th>int64</th><th>int64</th><th>float64</th></tr></thead>\n",
       "<tr><td>GJ 3473</td><td>GJ 3473 b</td><td>27.3644</td><td>08h02m22.47s</td><td>+03d20m13.79s</td><td>8.829001</td><td>0.36</td><td>0.36</td><td>0.01</td><td>-0.01</td><td>3347.0</td><td>2458492.20412163</td><td>0.00037015</td><td>-0.00037015</td><td>1.264</td><td>0.05</td><td>-0.049</td><td>1.86</td><td>0.3</td><td>-0.3</td><td>1.198003975976397</td><td>5.76582216e-07</td><td>-5.76582216e-07</td><td>0.01589</td><td>87.95</td><td>0.0</td><td>--</td><td>--</td><td>1</td><td>1</td><td>0.0321894750291473</td><td>11.407064002554433</td><td>768.2070915703122</td><td>57.83231621613784</td><td>5.06105605260494</td><td>f1500w</td><td>sub256</td><td>4</td><td>39</td><td>0.65</td></tr>\n",
       "<tr><td>GJ 357</td><td>GJ 357 b</td><td>9.44181</td><td>09h36m01.79s</td><td>-21d39m54.23s</td><td>6.475</td><td>0.34</td><td>0.34</td><td>0.02</td><td>-0.02</td><td>3505.0</td><td>2458517.998679131</td><td>0.0003765</td><td>-0.0003765</td><td>1.217</td><td>0.084</td><td>-0.083</td><td>1.84</td><td>0.31</td><td>-0.31</td><td>3.9306063296116895</td><td>1.16151077e-06</td><td>-1.16151077e-06</td><td>0.035</td><td>89.12</td><td>--</td><td>--</td><td>--</td><td>1</td><td>1</td><td>0.03281564780289002</td><td>12.17283537042799</td><td>526.7769415618036</td><td>12.786873373040743</td><td>5.609388414817885</td><td>f1500w</td><td>sub64</td><td>1</td><td>21</td><td>0.8</td></tr>\n",
       "<tr><td>HD 260655</td><td>HD 260655 b</td><td>10.0055</td><td>06h37m09.97s</td><td>+17d33m58.57s</td><td>5.862</td><td>0.44</td><td>0.439</td><td>0.003</td><td>-0.003</td><td>3803.0</td><td>2459497.9102</td><td>0.0003</td><td>-0.0003</td><td>1.24</td><td>0.023</td><td>-0.023</td><td>2.14</td><td>0.34</td><td>-0.34</td><td>2.76953</td><td>3e-05</td><td>-3e-05</td><td>0.02933</td><td>87.35</td><td>0.039</td><td>0.043</td><td>-0.023</td><td>1</td><td>1</td><td>0.02589563026767422</td><td>13.63720864077306</td><td>709.4729664292033</td><td>42.072735108287475</td><td>6.167627593216154</td><td>f1500w</td><td>sub64</td><td>2</td><td>16</td><td>0.95</td></tr>\n",
       "<tr><td>L 98-59</td><td>L 98-59 c</td><td>10.6194</td><td>08h18m07.89s</td><td>-68d18m52.08s</td><td>7.101</td><td>0.27</td><td>0.3</td><td>0.03</td><td>-0.02</td><td>3415.0</td><td>2458367.27375</td><td>0.00013</td><td>-0.00022</td><td>1.34</td><td>0.07</td><td>-0.07</td><td>2.42</td><td>0.35</td><td>-0.34</td><td>3.6906777</td><td>1.6e-06</td><td>-2.6e-06</td><td>0.0304</td><td>88.11</td><td>0.103</td><td>0.045</td><td>-0.058</td><td>1</td><td>1</td><td>0.04094990177758612</td><td>13.20568249247054</td><td>517.3063880405923</td><td>11.891830329088151</td><td>5.5267573282965365</td><td>f1500w</td><td>sub128</td><td>1</td><td>23</td><td>0.7</td></tr>\n",
       "<tr><td>LHS 1140</td><td>LHS 1140 c</td><td>14.9861</td><td>00h44m59.67s</td><td>-15d16m26.79s</td><td>8.821</td><td>0.19</td><td>0.21</td><td>0.0035</td><td>-0.0035</td><td>2988.0</td><td>2458389.2942323</td><td>0.00062395</td><td>-0.00062395</td><td>1.169</td><td>0.037</td><td>-0.038</td><td>1.76</td><td>0.17</td><td>-0.16</td><td>3.777939728</td><td>5.83523921e-06</td><td>-5.83523921e-06</td><td>0.02734</td><td>89.913</td><td>0.274</td><td>--</td><td>--</td><td>1</td><td>1</td><td>0.05103457908102151</td><td>12.61940060872384</td><td>399.3229614135901</td><td>4.2223523461028085</td><td>6.053946228618852</td><td>f1500w</td><td>sub256</td><td>3</td><td>36</td><td>0.65</td></tr>\n",
       "<tr><td>LHS 1478</td><td>LHS 1478 b</td><td>18.2276</td><td>02h57m21.33s</td><td>+76d33m05.06s</td><td>8.767</td><td>0.24</td><td>0.25</td><td>0.01</td><td>-0.01</td><td>3381.0</td><td>2458786.75425</td><td>0.00042</td><td>-0.00042</td><td>1.242</td><td>0.051</td><td>-0.049</td><td>2.33</td><td>0.2</td><td>-0.2</td><td>1.9495378</td><td>4e-06</td><td>-4.1e-06</td><td>0.01848</td><td>87.452</td><td>--</td><td>--</td><td>--</td><td>1</td><td>1</td><td>0.045546069857697276</td><td>14.800207739484296</td><td>599.6495187649439</td><td>21.470754020600786</td><td>6.682832228969028</td><td>f1500w</td><td>sub256</td><td>2</td><td>39</td><td>0.65</td></tr>\n",
       "<tr><td>LTT 3780</td><td>LTT 3780 b</td><td>21.9814</td><td>10h18m34.78s</td><td>-11d43m04.08s</td><td>8.204001</td><td>0.4</td><td>0.37</td><td>0.01</td><td>-0.01</td><td>3331.0</td><td>2458543.91281</td><td>0.00048</td><td>-0.00052</td><td>1.32</td><td>0.06</td><td>-0.06</td><td>2.47</td><td>0.24</td><td>-0.24</td><td>0.768377</td><td>1.4e-06</td><td>-1.4e-06</td><td>0.01203</td><td>85.9</td><td>0.064</td><td>0.075</td><td>-0.046</td><td>1</td><td>1</td><td>0.032707061524655315</td><td>13.89006163347313</td><td>890.7913247681156</td><td>104.55895980434461</td><td>5.901257760073781</td><td>f1500w</td><td>sub256</td><td>2</td><td>22</td><td>0.65</td></tr>\n",
       "<tr><td>TOI-1468</td><td>TOI-1468 b</td><td>24.7399</td><td>01h06m36.93s</td><td>+19d13m29.71s</td><td>8.497</td><td>0.34</td><td>0.34</td><td>0.01</td><td>-0.01</td><td>3496.0</td><td>2458765.68079</td><td>0.0007</td><td>-0.00069</td><td>1.28</td><td>0.038</td><td>-0.039</td><td>3.21</td><td>0.24</td><td>-0.24</td><td>1.8805136</td><td>2.4e-06</td><td>-2.6e-06</td><td>0.02102086</td><td>88.47</td><td>--</td><td>--</td><td>--</td><td>1</td><td>1</td><td>0.03451440360534036</td><td>19.197301030931996</td><td>677.9832124158797</td><td>35.08593869199558</td><td>8.410940260139574</td><td>f1500w</td><td>sub256</td><td>3</td><td>31</td><td>0.65</td></tr>\n",
       "<tr><td>TOI-270</td><td>TOI-270 b</td><td>22.453</td><td>04h33m39.86s</td><td>-51d57m26.62s</td><td>8.251</td><td>0.386</td><td>0.38</td><td>0.008</td><td>-0.008</td><td>3506.0</td><td>2458387.09505</td><td>0.00074</td><td>-0.00074</td><td>1.206</td><td>0.039</td><td>-0.039</td><td>1.58</td><td>0.26</td><td>-0.26</td><td>3.3601538</td><td>4.8e-06</td><td>-4.8e-06</td><td>0.03197</td><td>89.39</td><td>0.034</td><td>0.025</td><td>-0.025</td><td>1</td><td>1</td><td>0.029095982841969084</td><td>10.64431095709798</td><td>582.8619296384281</td><td>19.165497515761714</td><td>4.949765091265365</td><td>f1500w</td><td>sub256</td><td>4</td><td>25</td><td>0.65</td></tr>\n",
       "</table></div>"
      ],
      "text/plain": [
       "<Table length=9>\n",
       " hostname   pl_name   sy_dist    rastr     ...  nobs ngroup frac_fullwell\n",
       "   str9      str11    float64    str12     ... int64 int64     float64   \n",
       "--------- ----------- ------- ------------ ... ----- ------ -------------\n",
       "  GJ 3473   GJ 3473 b 27.3644 08h02m22.47s ...     4     39          0.65\n",
       "   GJ 357    GJ 357 b 9.44181 09h36m01.79s ...     1     21           0.8\n",
       "HD 260655 HD 260655 b 10.0055 06h37m09.97s ...     2     16          0.95\n",
       "  L 98-59   L 98-59 c 10.6194 08h18m07.89s ...     1     23           0.7\n",
       " LHS 1140  LHS 1140 c 14.9861 00h44m59.67s ...     3     36          0.65\n",
       " LHS 1478  LHS 1478 b 18.2276 02h57m21.33s ...     2     39          0.65\n",
       " LTT 3780  LTT 3780 b 21.9814 10h18m34.78s ...     2     22          0.65\n",
       " TOI-1468  TOI-1468 b 24.7399 01h06m36.93s ...     3     31          0.65\n",
       "  TOI-270   TOI-270 b  22.453 04h33m39.86s ...     4     25          0.65"
      ]
     },
     "execution_count": 3,
     "metadata": {},
     "output_type": "execute_result"
    }
   ],
   "source": [
    "sample_table = ascii.read('sample_final.csv')\n",
    "sample_table"
   ]
  },
  {
   "cell_type": "markdown",
   "id": "d34e2b28",
   "metadata": {},
   "source": [
    "## Retrieve targets from Gaia and return properties"
   ]
  },
  {
   "cell_type": "code",
   "execution_count": 4,
   "id": "aef40820",
   "metadata": {},
   "outputs": [
    {
     "name": "stdout",
     "output_type": "stream",
     "text": [
      "GJ 3473\n",
      "Gaia DR3 3094290054327367168\n",
      "INFO: Query finished. [astroquery.utils.tap.core]\n",
      "    Reference epoch\n",
      "    2016.0 yr\n",
      "    RA    Dec\n",
      "   08h02m22.45210865s +03d20m13.59632883s\n",
      "    Proper motion RA, Dec mas / yr mas / yr\n",
      "    -403.19796827775485 mas / yr -380.9280968279645 mas / yr\n",
      "    Parallax\n",
      "    0.03661053015816239 arcsec\n",
      "GJ 357\n",
      "Gaia DR3 5664814198431308288\n",
      "INFO: Query finished. [astroquery.utils.tap.core]\n",
      "    Reference epoch\n",
      "    2016.0 yr\n",
      "    RA    Dec\n",
      "   09h36m01.7964296s -21d39m54.72307893s\n",
      "    Proper motion RA, Dec mas / yr mas / yr\n",
      "    138.7217909625574 mas / yr -990.3417190688432 mas / yr\n",
      "    Parallax\n",
      "    0.10597890913558383 arcsec\n",
      "HD 260655\n",
      "Gaia DR3 3359074685047632640\n",
      "INFO: Query finished. [astroquery.utils.tap.core]\n",
      "    Reference epoch\n",
      "    2016.0 yr\n",
      "    RA    Dec\n",
      "   06h37m09.94355157s +17d33m58.73946387s\n",
      "    Proper motion RA, Dec mas / yr mas / yr\n",
      "    -764.4141395476029 mas / yr 337.88323421402026 mas / yr\n",
      "    Parallax\n",
      "    0.10002319547433648 arcsec\n",
      "L 98-59\n",
      "Gaia DR3 5271055243163629056\n",
      "INFO: Query finished. [astroquery.utils.tap.core]\n",
      "    Reference epoch\n",
      "    2016.0 yr\n",
      "    RA    Dec\n",
      "   08h18m07.89506385s -68d18m52.24672362s\n",
      "    Proper motion RA, Dec mas / yr mas / yr\n",
      "    94.79378412168865 mas / yr -340.08431073762046 mas / yr\n",
      "    Parallax\n",
      "    0.09426635965165642 arcsec\n",
      "LHS 1140\n",
      "Gaia DR3 2371032916186181760\n",
      "INFO: Query finished. [astroquery.utils.tap.core]\n",
      "    Reference epoch\n",
      "    2016.0 yr\n",
      "    RA    Dec\n",
      "   00h44m59.68269803s -15d16m27.08882362s\n",
      "    Proper motion RA, Dec mas / yr mas / yr\n",
      "    318.1520629418195 mas / yr -596.6229051027706 mas / yr\n",
      "    Parallax\n",
      "    0.06682874472085788 arcsec\n",
      "LHS 1478\n",
      "Gaia DR3 549007291282705024\n",
      "INFO: Query finished. [astroquery.utils.tap.core]\n",
      "    Reference epoch\n",
      "    2016.0 yr\n",
      "    RA    Dec\n",
      "   02h57m21.42876775s +76d33m04.85647804s\n",
      "    Proper motion RA, Dec mas / yr mas / yr\n",
      "    690.9197545650943 mas / yr -399.8937562024991 mas / yr\n",
      "    Parallax\n",
      "    0.05490364921822687 arcsec\n",
      "LTT 3780\n",
      "Gaia DR3 3767281845873242112\n",
      "INFO: Query finished. [astroquery.utils.tap.core]\n",
      "    Reference epoch\n",
      "    2016.0 yr\n",
      "    RA    Dec\n",
      "   10h18m34.76517733s -11d43m04.20732645s\n",
      "    Proper motion RA, Dec mas / yr mas / yr\n",
      "    -341.5372660862644 mas / yr -247.74725247160802 mas / yr\n",
      "    Parallax\n",
      "    0.04539719520705794 arcsec\n",
      "TOI-1468\n",
      "Gaia DR3 2785466581298775680\n",
      "INFO: Query finished. [astroquery.utils.tap.core]\n",
      "    Reference epoch\n",
      "    2016.0 yr\n",
      "    RA    Dec\n",
      "   01h06m36.9279101s +19d13m29.59874264s\n",
      "    Proper motion RA, Dec mas / yr mas / yr\n",
      "    -42.06666583479145 mas / yr -222.79007012357297 mas / yr\n",
      "    Parallax\n",
      "    0.040451580634390714 arcsec\n",
      "TOI-270\n",
      "Gaia DR3 4781196115469953024\n",
      "INFO: Query finished. [astroquery.utils.tap.core]\n",
      "    Reference epoch\n",
      "    2016.0 yr\n",
      "    RA    Dec\n",
      "   04h33m39.86381633s -51d57m26.75223444s\n",
      "    Proper motion RA, Dec mas / yr mas / yr\n",
      "    83.08204378717042 mas / yr -269.8034870673143 mas / yr\n",
      "    Parallax\n",
      "    0.044489913488441966 arcsec\n"
     ]
    }
   ],
   "source": [
    "sample_table = ascii.read('sample_final.csv')\n",
    "\n",
    "for star in sample_table['hostname']:\n",
    "    print(star)\n",
    "    star_names = Simbad.query_objectids(star)\n",
    "    for name in star_names:\n",
    "        if 'gaia' in name['ID'].lower() and 'dr3' in name['ID'].lower():\n",
    "            print(name['ID'])\n",
    "            query = f\"SELECT source_id, ref_epoch, ra, dec, parallax, pmra, pmdec, \\\n",
    "                    distance_gspphot, teff_gspphot, azero_gspphot, phot_g_mean_mag, radial_velocity \\\n",
    "                    FROM gaiadr3.gaia_source \\\n",
    "                    WHERE source_id = {name['ID'].split(' ')[-1]}\"\n",
    "\n",
    "            job     = Gaia.launch_job_async(query)\n",
    "            results = job.get_results()\n",
    "            print('    Reference epoch')\n",
    "            print('   ', results['ref_epoch'].value[0], results['ref_epoch'].unit)\n",
    "            print('    RA    Dec')\n",
    "            coordinates = SkyCoord(results['ra'].value[0]*u.deg, results['dec'].value[0]*u.deg, frame='icrs')\n",
    "            coords_string = coordinates.to_string('hmsdms')\n",
    "            print(f'   {coords_string}')\n",
    "            print('    Proper motion RA, Dec', results['pmra'].unit, results['pmdec'].unit)\n",
    "            print('   ', results['pmra'].value[0]*u.mas/u.yr, results['pmdec'].value[0]*u.mas/u.yr)\n",
    "            print('    Parallax')\n",
    "            print('   ', (results['parallax'].value[0]*u.mas).to(u.arcsec))\n"
   ]
  },
  {
   "cell_type": "code",
   "execution_count": 9,
   "id": "59aec7e6",
   "metadata": {},
   "outputs": [],
   "source": [
    "def get_gaia_dr3_data(star_name):\n",
    "    print(star_name)\n",
    "    star_aliases = Simbad.query_objectids(star_name)\n",
    "    for alias in star_aliases:\n",
    "        if 'gaia' in alias['ID'].lower() and 'dr3' in alias['ID'].lower():\n",
    "            print(alias['ID'])\n",
    "            gaia_source_id = alias['ID'].split(' ')[-1]\n",
    "            print(gaia_source_id)\n",
    "            \n",
    "            query = f\"SELECT source_id, ref_epoch, ra, dec, pm, pmra, pmdec, parallax, \\\n",
    "                    distance_gspphot, teff_gspphot, azero_gspphot, phot_g_mean_mag, radial_velocity \\\n",
    "                    FROM gaiadr3.gaia_source \\\n",
    "                    WHERE source_id = {gaia_source_id}\"\n",
    "\n",
    "            job     = Gaia.launch_job_async(query)\n",
    "            results = job.get_results()\n",
    "            print('    Reference epoch:')\n",
    "            print('   ', results['ref_epoch'].value[0], results['ref_epoch'].unit)\n",
    "            print('    RA    Dec:')\n",
    "            coordinates = SkyCoord(results['ra'].value[0]*u.deg, results['dec'].value[0]*u.deg, frame='icrs')\n",
    "            coords_string = coordinates.to_string('hmsdms')\n",
    "            print(f'   {coords_string}')\n",
    "            print('    Proper motion RA, Dec:')#, results['pmra'].unit, results['pmdec'].unit)\n",
    "            print('   ', results['pmra'].value[0]*u.mas/u.yr, results['pmdec'].value[0]*u.mas/u.yr)\n",
    "            print('    Parallax:')\n",
    "            print('   ', (results['parallax'].value[0]*u.mas))\n",
    "            \n",
    "    return results"
   ]
  },
  {
   "cell_type": "code",
   "execution_count": 6,
   "id": "d21e708a",
   "metadata": {},
   "outputs": [
    {
     "name": "stdout",
     "output_type": "stream",
     "text": [
      "TOI-270\n",
      "Gaia DR3 4781196115469953024\n",
      "4781196115469953024\n",
      "INFO: Query finished. [astroquery.utils.tap.core]\n",
      "    Reference epoch:\n",
      "    2016.0 yr\n",
      "    RA    Dec:\n",
      "   04h33m39.86381633s -51d57m26.75223444s\n",
      "    Proper motion RA, Dec:\n",
      "    83.08204378717042 mas / yr -269.8034870673143 mas / yr\n",
      "    Parallax:\n",
      "    44.489913488441964 mas\n"
     ]
    }
   ],
   "source": [
    "get_gaia_dr3_data(sample_table['hostname'][8])"
   ]
  },
  {
   "cell_type": "markdown",
   "id": "94163ad4",
   "metadata": {},
   "source": [
    "## Compute proper motions to give target placement in 2024"
   ]
  },
  {
   "cell_type": "code",
   "execution_count": 137,
   "id": "abb576c1",
   "metadata": {},
   "outputs": [
    {
     "name": "stdout",
     "output_type": "stream",
     "text": [
      "L 98-59\n",
      "Gaia DR3 5271055243163629056\n",
      "5271055243163629056\n",
      "INFO: Query finished. [astroquery.utils.tap.core]\n",
      "    Reference epoch:\n",
      "    2016.0 yr\n",
      "    RA    Dec:\n",
      "   08h18m07.89506385s -68d18m52.24672362s\n",
      "    Proper motion RA, Dec:\n",
      "    94.79378412168865 mas / yr -340.08431073762046 mas / yr\n",
      "    Parallax:\n",
      "    94.26635965165642 mas\n"
     ]
    }
   ],
   "source": [
    "target = sample_table[3]\n",
    "gaia_results = get_gaia_dr3_data(target['hostname'])"
   ]
  },
  {
   "cell_type": "code",
   "execution_count": 138,
   "id": "c236bfc1",
   "metadata": {},
   "outputs": [
    {
     "data": {
      "text/html": [
       "<div><i>Table length=1</i>\n",
       "<table id=\"table140516207304464\" class=\"table-striped table-bordered table-condensed\">\n",
       "<thead><tr><th>source_id</th><th>ref_epoch</th><th>ra</th><th>dec</th><th>pm</th><th>pmra</th><th>pmdec</th><th>parallax</th><th>distance_gspphot</th><th>teff_gspphot</th><th>azero_gspphot</th><th>phot_g_mean_mag</th><th>radial_velocity</th></tr></thead>\n",
       "<thead><tr><th></th><th>yr</th><th>deg</th><th>deg</th><th>mas / yr</th><th>mas / yr</th><th>mas / yr</th><th>mas</th><th>pc</th><th>K</th><th>mag</th><th>mag</th><th>km / s</th></tr></thead>\n",
       "<thead><tr><th>int64</th><th>float64</th><th>float64</th><th>float64</th><th>float32</th><th>float64</th><th>float64</th><th>float64</th><th>float32</th><th>float32</th><th>float32</th><th>float32</th><th>float32</th></tr></thead>\n",
       "<tr><td>5271055243163629056</td><td>2016.0</td><td>124.53289609935437</td><td>-68.31451297878304</td><td>353.04843</td><td>94.79378412168865</td><td>-340.08431073762046</td><td>94.26635965165642</td><td>10.6115</td><td>3178.8445</td><td>0.0031</td><td>10.605513</td><td>-6.095192</td></tr>\n",
       "</table></div>"
      ],
      "text/plain": [
       "<Table length=1>\n",
       "     source_id      ref_epoch ... phot_g_mean_mag radial_velocity\n",
       "                        yr    ...       mag            km / s    \n",
       "       int64         float64  ...     float32         float32    \n",
       "------------------- --------- ... --------------- ---------------\n",
       "5271055243163629056    2016.0 ...       10.605513       -6.095192"
      ]
     },
     "execution_count": 138,
     "metadata": {},
     "output_type": "execute_result"
    }
   ],
   "source": [
    "gaia_results"
   ]
  },
  {
   "cell_type": "code",
   "execution_count": 139,
   "id": "5160e179",
   "metadata": {},
   "outputs": [],
   "source": [
    "def calculate_proper_motions(gaia_results, future_time='now'):\n",
    "\n",
    "    ra = float(gaia_results['ra'])       # [deg]\n",
    "    dec = float(gaia_results['dec'])     # [deg]\n",
    "    c = SkyCoord(f\"{ra} {dec}\" , unit='deg', frame='icrs')\n",
    "\n",
    "    mu_ra = float(gaia_results['pmra']) / 1000   # proper motion ra [as/yr]\n",
    "    mu_dec = float(gaia_results['pmdec']) / 1000  # proper motion dec [as/yr]\n",
    "    parallax = float(gaia_results['parallax'])  # mas\n",
    "    d = 1/(parallax / 1000)       # distance [pc]\n",
    "    epoch = float(gaia_results['ref_epoch'])         # elapsed time since position was measured [yrs]\n",
    "    time_now = Time.now()\n",
    "    if future_time=='now':\n",
    "        epoch_new = time_now.value.year + time_now.value.month/12  # get year + month of now\n",
    "    else: epoch_new = future_time\n",
    "    t = epoch_new - epoch\n",
    "    v_r = 0          # radial velocity [km/s]  # okay for nearby stuff \n",
    "\n",
    "    # convert to transverse (linear) velocities\n",
    "    v_ra = mu_ra * d * 4.74         #[km/s]\n",
    "    v_dec = mu_dec * d * 4.74       #[km/s]\n",
    "\n",
    "    # convert ra and dec into radiansASTRO\n",
    "    ra = ra*np.pi/180\n",
    "    dec = dec*np.pi/180\n",
    "\n",
    "    # convert to cartesian velocities (assuming radial velocity v_r = 0)\n",
    "    v_x = ((v_r*np.cos(dec)*np.cos(ra)) - (v_ra*np.sin(ra)) - (v_dec*np.sin(dec)*np.cos(ra)))/977780     #[pc/yr]\n",
    "    v_y = ((v_r*np.cos(dec)*np.sin(ra)) + (v_ra*np.cos(ra)) - (v_dec*np.sin(dec)*np.sin(ra)))/977780     #[pc/yr]\n",
    "    v_z = ((v_r*np.sin(dec)) + (v_dec*np.cos(dec)))/977780                                               #[pc/yr]\n",
    "\n",
    "    # use the velocity to transform to current position\n",
    "    x0 = d * np.cos(dec) * np.cos(ra)\n",
    "    y0 = d * np.cos(dec) * np.sin(ra)\n",
    "    z0 = d * np.sin(dec)\n",
    "\n",
    "    xt = x0 + v_x*t             # [pc]\n",
    "    yt = y0 + v_y*t             # [pc]\n",
    "    zt = z0 + v_z*t             # [pc]\n",
    "\n",
    "    # convert to a new usable ra and dec\n",
    "    dxy = np.sqrt(xt**2 + yt**2)                  # [pc]\n",
    "    dec_new = np.arctan(zt/dxy)*180/np.pi         # [deg]\n",
    "    ra_new = np.arctan(yt/xt)*180/np.pi           # [deg]\n",
    "\n",
    "    if yt < 0 and xt < 0:\n",
    "        # ra is in the 3rd quadrant: 180 deg - 270 deg\n",
    "        ra_new += 180.\n",
    "    elif yt > 0 and xt < 0:\n",
    "        # ra is in the 3rd quadrant: 180 deg - 270 deg\n",
    "        ra_new += 180.\n",
    "\n",
    "\n",
    "    c_new = SkyCoord(ra_new, dec_new, unit='deg', frame='icrs')\n",
    "\n",
    "    return epoch_new, c, c_new"
   ]
  },
  {
   "cell_type": "code",
   "execution_count": 140,
   "id": "3e349159",
   "metadata": {},
   "outputs": [],
   "source": [
    "def ra_dec_string(ra_dec):\n",
    "    ra, dec = ra_dec.split(' ')\n",
    "    ra_new  = ra.replace('h', ':').replace('m', ':').replace('s', '')\n",
    "    dec_new = dec.replace('d', ':').replace('m', ':').replace('s', '')\n",
    "    \n",
    "    return ra_new + ' ' + dec_new"
   ]
  },
  {
   "cell_type": "code",
   "execution_count": 143,
   "id": "a4730c9a",
   "metadata": {},
   "outputs": [
    {
     "name": "stdout",
     "output_type": "stream",
     "text": [
      "Positions for L 98-59\n",
      "   Position at 2016.0: 08:18:07.89506385 -68:18:52.24672362\n",
      "   Position at 2050.0: 08:18:08.47658193 -68:19:03.80852382\n"
     ]
    }
   ],
   "source": [
    "future_time = 2050\n",
    "epoch_new, c, c_new = calculate_proper_motions(gaia_results, future_time=future_time)\n",
    "\n",
    "pos_old = ra_dec_string(c.to_string('hmsdms'))\n",
    "pos_now = ra_dec_string(c_new.to_string('hmsdms'))\n",
    "\n",
    "starname = target['hostname']\n",
    "print(f'Positions for {starname}')\n",
    "print(f'   Position at {float(epoch)}: {pos_old}')\n",
    "print(f'   Position at {epoch_new:.1f}: {pos_now}')"
   ]
  },
  {
   "cell_type": "markdown",
   "id": "1621677d",
   "metadata": {},
   "source": [
    "## Compute offsets for targets that need them"
   ]
  },
  {
   "cell_type": "code",
   "execution_count": 9,
   "id": "74cbc241",
   "metadata": {},
   "outputs": [
    {
     "data": {
      "text/html": [
       "<div><i>Table length=9</i>\n",
       "<table id=\"table139758587951616\" class=\"table-striped table-bordered table-condensed\">\n",
       "<thead><tr><th>hostname</th><th>pl_name</th><th>sy_dist</th><th>rastr</th><th>decstr</th><th>sy_kmag</th><th>st_mass</th><th>st_rad</th><th>st_raderr1</th><th>st_raderr2</th><th>st_teff</th><th>pl_tranmid</th><th>pl_tranmiderr1</th><th>pl_tranmiderr2</th><th>pl_rade</th><th>pl_radeerr1</th><th>pl_radeerr2</th><th>pl_bmasse</th><th>pl_bmasseerr1</th><th>pl_bmasseerr2</th><th>pl_orbper</th><th>pl_orbpererr1</th><th>pl_orbpererr2</th><th>pl_orbsmax</th><th>pl_orbincl</th><th>pl_orbeccen</th><th>pl_orbeccenerr1</th><th>pl_orbeccenerr2</th><th>tran_flag</th><th>rv_flag</th><th>pl_rp_rs</th><th>pl_g</th><th>pl_teq_a0</th><th>pl_s</th><th>pl_rho</th><th>filter</th><th>subarray</th><th>nobs</th><th>ngroup</th></tr></thead>\n",
       "<thead><tr><th>str9</th><th>str11</th><th>float64</th><th>str12</th><th>str13</th><th>float64</th><th>float64</th><th>float64</th><th>float64</th><th>float64</th><th>float64</th><th>float64</th><th>float64</th><th>float64</th><th>float64</th><th>float64</th><th>float64</th><th>float64</th><th>float64</th><th>float64</th><th>float64</th><th>float64</th><th>float64</th><th>float64</th><th>float64</th><th>float64</th><th>float64</th><th>float64</th><th>int64</th><th>int64</th><th>float64</th><th>float64</th><th>float64</th><th>float64</th><th>float64</th><th>str6</th><th>str9</th><th>int64</th><th>int64</th></tr></thead>\n",
       "<tr><td>GJ 3473</td><td>GJ 3473 b</td><td>27.3644</td><td>08h02m22.47s</td><td>+03d20m13.79s</td><td>8.829001</td><td>0.36</td><td>0.36</td><td>0.01</td><td>-0.01</td><td>3347.0</td><td>2458492.20408</td><td>0.00043</td><td>-0.00042</td><td>1.264</td><td>0.05</td><td>-0.049</td><td>1.86</td><td>0.3</td><td>-0.3</td><td>1.1980035</td><td>1.8e-06</td><td>-1.9e-06</td><td>0.01589</td><td>87.95</td><td>0.0</td><td>--</td><td>--</td><td>1</td><td>1</td><td>0.0321894750291473</td><td>11.407064002554433</td><td>768.2070915703122</td><td>57.83231621613784</td><td>5.06105605260494</td><td>f1500w</td><td>full</td><td>4</td><td>7</td></tr>\n",
       "<tr><td>GJ 357</td><td>GJ 357 b</td><td>9.44181</td><td>09h36m01.79s</td><td>-21d39m54.23s</td><td>6.475</td><td>0.34</td><td>0.34</td><td>0.02</td><td>-0.02</td><td>3505.0</td><td>2458517.998679131</td><td>0.0003765</td><td>-0.0003765</td><td>1.217</td><td>0.084</td><td>-0.083</td><td>1.84</td><td>0.31</td><td>-0.31</td><td>3.930607947167463</td><td>2.51410086e-06</td><td>-2.51410086e-06</td><td>0.035</td><td>89.12</td><td>--</td><td>--</td><td>--</td><td>1</td><td>1</td><td>0.03281564780289002</td><td>12.17283537042799</td><td>526.7769415618036</td><td>12.786873373040743</td><td>5.609388414817885</td><td>f1500w</td><td>sub256</td><td>1</td><td>8</td></tr>\n",
       "<tr><td>HD 260655</td><td>HD 260655 b</td><td>10.0055</td><td>06h37m09.97s</td><td>+17d33m58.57s</td><td>5.862</td><td>0.44</td><td>0.439</td><td>0.003</td><td>-0.003</td><td>3803.0</td><td>2459497.9102</td><td>0.0003</td><td>-0.0003</td><td>1.24</td><td>0.023</td><td>-0.023</td><td>2.14</td><td>0.34</td><td>-0.34</td><td>2.76953</td><td>3e-05</td><td>-3e-05</td><td>0.02933</td><td>87.35</td><td>0.039</td><td>0.043</td><td>-0.023</td><td>1</td><td>1</td><td>0.02589563026767422</td><td>13.63720864077306</td><td>709.4729664292033</td><td>42.072735108287475</td><td>6.167627593216154</td><td>f1500w</td><td>sub128</td><td>2</td><td>12</td></tr>\n",
       "<tr><td>L 98-59</td><td>L 98-59 c</td><td>10.6194</td><td>08h18m07.89s</td><td>-68d18m52.08s</td><td>7.101</td><td>0.27</td><td>0.3</td><td>0.03</td><td>-0.02</td><td>3415.0</td><td>2458367.27375</td><td>0.00013</td><td>-0.00022</td><td>1.34</td><td>0.07</td><td>-0.07</td><td>2.42</td><td>0.35</td><td>-0.34</td><td>3.6906777</td><td>1.6e-06</td><td>-2.6e-06</td><td>0.0304</td><td>88.11</td><td>0.103</td><td>0.045</td><td>-0.058</td><td>1</td><td>1</td><td>0.04094990177758612</td><td>13.20568249247054</td><td>517.3063880405923</td><td>11.891830329088151</td><td>5.5267573282965365</td><td>f1500w</td><td>sub256</td><td>1</td><td>13</td></tr>\n",
       "<tr><td>LHS 1140</td><td>LHS 1140 c</td><td>14.9861</td><td>00h44m59.67s</td><td>-15d16m26.79s</td><td>8.821</td><td>0.19</td><td>0.21</td><td>0.0035</td><td>-0.0035</td><td>2988.0</td><td>2458389.2942323</td><td>0.00062395</td><td>-0.00062395</td><td>1.169</td><td>0.037</td><td>-0.038</td><td>1.76</td><td>0.17</td><td>-0.16</td><td>3.777939728</td><td>5.83523921e-06</td><td>-5.83523921e-06</td><td>0.02734</td><td>89.913</td><td>0.274</td><td>--</td><td>--</td><td>1</td><td>1</td><td>0.05103457908102151</td><td>12.61940060872384</td><td>399.3229614135901</td><td>4.2223523461028085</td><td>6.053946228618852</td><td>f1500w</td><td>full</td><td>3</td><td>7</td></tr>\n",
       "<tr><td>LHS 1478</td><td>LHS 1478 b</td><td>18.2276</td><td>02h57m21.33s</td><td>+76d33m05.06s</td><td>8.767</td><td>0.24</td><td>0.25</td><td>0.01</td><td>-0.01</td><td>3381.0</td><td>2458786.75425</td><td>0.00042</td><td>-0.00042</td><td>1.242</td><td>0.051</td><td>-0.049</td><td>2.33</td><td>0.2</td><td>-0.2</td><td>1.9495378</td><td>4e-06</td><td>-4.1e-06</td><td>0.01848</td><td>87.452</td><td>--</td><td>--</td><td>--</td><td>1</td><td>1</td><td>0.045546069857697276</td><td>14.800207739484296</td><td>599.6495187649439</td><td>21.470754020600786</td><td>6.682832228969028</td><td>f1500w</td><td>full</td><td>2</td><td>7</td></tr>\n",
       "<tr><td>LTT 3780</td><td>LTT 3780 b</td><td>21.9814</td><td>10h18m34.78s</td><td>-11d43m04.08s</td><td>8.204001</td><td>0.4</td><td>0.37</td><td>0.01</td><td>-0.01</td><td>3331.0</td><td>2458543.91281</td><td>0.00048</td><td>-0.00052</td><td>1.32</td><td>0.06</td><td>-0.06</td><td>2.47</td><td>0.24</td><td>-0.24</td><td>0.768377</td><td>1.4e-06</td><td>-1.4e-06</td><td>0.01203</td><td>85.9</td><td>0.064</td><td>0.075</td><td>-0.046</td><td>1</td><td>1</td><td>0.032707061524655315</td><td>13.89006163347313</td><td>890.7913247681156</td><td>104.55895980434461</td><td>5.901257760073781</td><td>f1500w</td><td>brightsky</td><td>2</td><td>12</td></tr>\n",
       "<tr><td>TOI-1468</td><td>TOI-1468 b</td><td>24.7399</td><td>01h06m36.93s</td><td>+19d13m29.71s</td><td>8.497</td><td>0.34</td><td>0.34</td><td>0.01</td><td>-0.01</td><td>3496.0</td><td>2458765.68079</td><td>0.0007</td><td>-0.00069</td><td>1.28</td><td>0.038</td><td>-0.039</td><td>3.21</td><td>0.24</td><td>-0.24</td><td>1.8805136</td><td>2.4e-06</td><td>-2.6e-06</td><td>0.02102086</td><td>88.47</td><td>--</td><td>--</td><td>--</td><td>1</td><td>1</td><td>0.03451440360534036</td><td>19.197301030931996</td><td>677.9832124158797</td><td>35.08593869199558</td><td>8.410940260139574</td><td>f1500w</td><td>full</td><td>3</td><td>6</td></tr>\n",
       "<tr><td>TOI-270</td><td>TOI-270 b</td><td>22.4793</td><td>04h33m39.86s</td><td>-51d57m26.62s</td><td>8.251</td><td>0.39</td><td>0.38</td><td>0.01</td><td>-0.01</td><td>3506.0</td><td>2458387.09505</td><td>0.00074</td><td>-0.00074</td><td>1.206</td><td>0.039</td><td>-0.039</td><td>1.58</td><td>0.26</td><td>-0.26</td><td>3.3601538</td><td>4.8e-06</td><td>-4.8e-06</td><td>0.03197</td><td>89.39</td><td>0.034</td><td>0.025</td><td>-0.025</td><td>1</td><td>1</td><td>0.029095982841969084</td><td>10.64431095709798</td><td>582.8619296384281</td><td>19.165497515761714</td><td>4.949765091265365</td><td>f1500w</td><td>brightsky</td><td>4</td><td>13</td></tr>\n",
       "</table></div>"
      ],
      "text/plain": [
       "<Table length=9>\n",
       " hostname   pl_name   sy_dist    rastr     ... filter  subarray  nobs ngroup\n",
       "   str9      str11    float64    str12     ...  str6     str9   int64 int64 \n",
       "--------- ----------- ------- ------------ ... ------ --------- ----- ------\n",
       "  GJ 3473   GJ 3473 b 27.3644 08h02m22.47s ... f1500w      full     4      7\n",
       "   GJ 357    GJ 357 b 9.44181 09h36m01.79s ... f1500w    sub256     1      8\n",
       "HD 260655 HD 260655 b 10.0055 06h37m09.97s ... f1500w    sub128     2     12\n",
       "  L 98-59   L 98-59 c 10.6194 08h18m07.89s ... f1500w    sub256     1     13\n",
       " LHS 1140  LHS 1140 c 14.9861 00h44m59.67s ... f1500w      full     3      7\n",
       " LHS 1478  LHS 1478 b 18.2276 02h57m21.33s ... f1500w      full     2      7\n",
       " LTT 3780  LTT 3780 b 21.9814 10h18m34.78s ... f1500w brightsky     2     12\n",
       " TOI-1468  TOI-1468 b 24.7399 01h06m36.93s ... f1500w      full     3      6\n",
       "  TOI-270   TOI-270 b 22.4793 04h33m39.86s ... f1500w brightsky     4     13"
      ]
     },
     "execution_count": 9,
     "metadata": {},
     "output_type": "execute_result"
    }
   ],
   "source": [
    "sample_table"
   ]
  },
  {
   "cell_type": "code",
   "execution_count": 28,
   "id": "94bbc708",
   "metadata": {},
   "outputs": [
    {
     "name": "stdout",
     "output_type": "stream",
     "text": [
      "GJ 357 b\n"
     ]
    },
    {
     "data": {
      "text/plain": [
       "'09h36m01.43131904s -21d40m09.22997592s'"
      ]
     },
     "execution_count": 28,
     "metadata": {},
     "output_type": "execute_result"
    }
   ],
   "source": [
    "targ = sample_table[1]\n",
    "print(targ['pl_name'])\n",
    "c1 = SkyCoord(targ['rastr'], targ['decstr'], frame='icrs')\n",
    "position_angle = 0 * u.deg # direction in \"N-S\" or \"y\" direction\n",
    "separation = -15 * u.arcsec\n",
    "c1_new = c1.directional_offset_by(position_angle, separation)\n",
    "\n",
    "position_angle = -90 * u.deg # direction in \"E-W\" or \"x\" direction\n",
    "separation = 5 * u.arcsec\n",
    "c1_new = c1_new.directional_offset_by(position_angle, separation)\n",
    "\n",
    "c1_new.to_string('hmsdms')"
   ]
  },
  {
   "cell_type": "code",
   "execution_count": 29,
   "id": "2ca2c2aa",
   "metadata": {},
   "outputs": [
    {
     "name": "stdout",
     "output_type": "stream",
     "text": [
      "HD 260655 b\n"
     ]
    },
    {
     "data": {
      "text/plain": [
       "'06h37m09.41057321s +17d34m06.56995088s'"
      ]
     },
     "execution_count": 29,
     "metadata": {},
     "output_type": "execute_result"
    }
   ],
   "source": [
    "targ = sample_table[2]\n",
    "print(targ['pl_name'])\n",
    "c1 = SkyCoord(targ['rastr'], targ['decstr'], frame='icrs')\n",
    "position_angle = 0 * u.deg # direction in \"N-S\" or \"y\" direction\n",
    "separation = 8 * u.arcsec\n",
    "c1_new = c1.directional_offset_by(position_angle, separation)\n",
    "\n",
    "position_angle = -90 * u.deg # direction in \"E-W\" or \"x\" direction\n",
    "separation = 8 * u.arcsec\n",
    "c1_new = c1_new.directional_offset_by(position_angle, separation)\n",
    "\n",
    "c1_new.to_string('hmsdms')"
   ]
  },
  {
   "cell_type": "code",
   "execution_count": null,
   "id": "53efcb9c",
   "metadata": {},
   "outputs": [],
   "source": []
  }
 ],
 "metadata": {
  "kernelspec": {
   "display_name": "Python 3",
   "language": "python",
   "name": "python3"
  },
  "language_info": {
   "codemirror_mode": {
    "name": "ipython",
    "version": 3
   },
   "file_extension": ".py",
   "mimetype": "text/x-python",
   "name": "python",
   "nbconvert_exporter": "python",
   "pygments_lexer": "ipython3",
   "version": "3.8.8"
  }
 },
 "nbformat": 4,
 "nbformat_minor": 5
}
