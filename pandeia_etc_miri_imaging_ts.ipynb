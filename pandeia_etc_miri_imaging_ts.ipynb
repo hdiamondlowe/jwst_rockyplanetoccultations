{
 "cells": [
  {
   "cell_type": "code",
   "execution_count": 1,
   "id": "a002e071",
   "metadata": {},
   "outputs": [
    {
     "name": "stdout",
     "output_type": "stream",
     "text": [
      "Pandeia Engine version:  2.0\n",
      "Pandeia RefData version:  2.0\n",
      "Synphot Data:  /home/hannah/programs/grp-2.0/redcat/trds\n"
     ]
    }
   ],
   "source": [
    "import numpy as np\n",
    "import matplotlib.pyplot as plt\n",
    "import astropy.units as u\n",
    "from astropy.io import ascii\n",
    "from astropy.coordinates import SkyCoord\n",
    "from astropy.table import Table\n",
    "from astropy.modeling.models import BlackBody\n",
    "from scipy import stats\n",
    "import astrotools.orbitparams as orb\n",
    "import astrotools.generateExoplanetTable as genTable\n",
    "import pickle\n",
    "import json\n",
    "import starry as st\n",
    "import copy\n",
    "import os\n",
    "st.config.lazy = False\n",
    "from jwst_backgrounds import jbt\n",
    "import pandeia.engine\n",
    "from pandeia.engine.calc_utils import build_default_calc\n",
    "from pandeia.engine.instrument_factory import InstrumentFactory\n",
    "from pandeia.engine.perform_calculation import perform_calculation\n",
    "\n",
    "pandeia.engine.pandeia_version()"
   ]
  },
  {
   "cell_type": "markdown",
   "id": "177caa69",
   "metadata": {},
   "source": [
    "## Provide stellar parameters\n",
    "Ideally these will be read from a database; implemente later"
   ]
  },
  {
   "cell_type": "code",
   "execution_count": 2,
   "id": "746a82c7",
   "metadata": {},
   "outputs": [],
   "source": [
    "# grab a table of transiting terrestrial exoplanets from NASA Exoplante Archive\n",
    "try: smallPlanetSystems = ascii.read('./NASAExoArchive_TransitingExoplanetTable.dat')\n",
    "except:\n",
    "    thiswd = os.getcwd()\n",
    "    smallPlanetSystems = genTable.generateTransitingExoTable(outputpath=thiswd, \n",
    "                                                             sy_dist_upper=25, \n",
    "                                                             st_rad_upper=0.35, \n",
    "                                                             pl_rade_upper=1.85, \n",
    "                                                             pl_per_upper=30)"
   ]
  },
  {
   "cell_type": "code",
   "execution_count": 3,
   "id": "05fe800c",
   "metadata": {},
   "outputs": [
    {
     "data": {
      "text/html": [
       "<div><i>Table length=24</i>\n",
       "<table id=\"table140492909114848\" class=\"table-striped table-bordered table-condensed\">\n",
       "<thead><tr><th>hostname</th><th>pl_name</th><th>sy_dist</th><th>rastr</th><th>decstr</th><th>sy_kmag</th><th>st_mass</th><th>st_rad</th><th>st_teff</th><th>pl_rade</th><th>pl_bmasse</th><th>pl_orbper</th><th>pl_orbsmax</th><th>pl_orbincl</th><th>tran_flag</th><th>rv_flag</th></tr></thead>\n",
       "<thead><tr><th>str10</th><th>str12</th><th>float64</th><th>str12</th><th>str13</th><th>float64</th><th>float64</th><th>float64</th><th>float64</th><th>float64</th><th>float64</th><th>float64</th><th>float64</th><th>float64</th><th>int64</th><th>int64</th></tr></thead>\n",
       "<tr><td>GJ 1132</td><td>GJ 1132 b</td><td>12.613</td><td>10h14m50.18s</td><td>-47d09m17.77s</td><td>8.322</td><td>0.18</td><td>0.21</td><td>3270.0</td><td>1.13</td><td>1.66</td><td>1.628931</td><td>0.0153</td><td>86.58</td><td>1</td><td>1</td></tr>\n",
       "<tr><td>GJ 357</td><td>GJ 357 b</td><td>9.44181</td><td>09h36m01.79s</td><td>-21d39m54.23s</td><td>6.475</td><td>0.34</td><td>0.34</td><td>3505.0</td><td>1.217</td><td>1.84</td><td>3.93072</td><td>0.035</td><td>89.12</td><td>1</td><td>1</td></tr>\n",
       "<tr><td>GJ 3929</td><td>GJ 3929 b</td><td>15.8095</td><td>15h58m18.62s</td><td>+35d24m29.21s</td><td>7.869</td><td>0.31</td><td>0.32</td><td>3384.0</td><td>1.09</td><td>1.75</td><td>2.616235</td><td>0.0252</td><td>88.442</td><td>1</td><td>1</td></tr>\n",
       "<tr><td>GJ 486</td><td>GJ 486 b</td><td>8.07426</td><td>12h47m55.57s</td><td>+09d44m57.91s</td><td>6.362</td><td>0.32</td><td>0.33</td><td>3340.0</td><td>1.305</td><td>2.82</td><td>1.467119</td><td>0.01734</td><td>88.4</td><td>1</td><td>1</td></tr>\n",
       "<tr><td>L 98-59</td><td>L 98-59 c</td><td>10.6194</td><td>08h18m07.89s</td><td>-68d18m52.08s</td><td>7.101</td><td>0.27</td><td>0.3</td><td>3415.0</td><td>1.385</td><td>2.22</td><td>3.6906777</td><td>0.0304</td><td>88.11</td><td>1</td><td>1</td></tr>\n",
       "<tr><td>L 98-59</td><td>L 98-59 d</td><td>10.6194</td><td>08h18m07.89s</td><td>-68d18m52.08s</td><td>7.101</td><td>0.27</td><td>0.3</td><td>3415.0</td><td>1.521</td><td>1.94</td><td>7.4507245</td><td>0.0486</td><td>88.449</td><td>1</td><td>1</td></tr>\n",
       "<tr><td>L 98-59</td><td>L 98-59 b</td><td>10.6194</td><td>08h18m07.89s</td><td>-68d18m52.08s</td><td>7.101</td><td>0.27</td><td>0.3</td><td>3415.0</td><td>0.85</td><td>0.4</td><td>2.2531136</td><td>0.02191</td><td>87.71</td><td>1</td><td>1</td></tr>\n",
       "<tr><td>LHS 1140</td><td>LHS 1140 c</td><td>14.9861</td><td>00h44m59.67s</td><td>-15d16m26.79s</td><td>8.821</td><td>0.19</td><td>0.21</td><td>2988.0</td><td>1.169</td><td>1.76</td><td>3.77792</td><td>0.02734</td><td>89.913</td><td>1</td><td>1</td></tr>\n",
       "<tr><td>LHS 1140</td><td>LHS 1140 b</td><td>14.9861</td><td>00h44m59.67s</td><td>-15d16m26.79s</td><td>8.821</td><td>0.19</td><td>0.21</td><td>2988.0</td><td>1.635</td><td>6.38</td><td>24.73694</td><td>0.0957</td><td>89.877</td><td>1</td><td>1</td></tr>\n",
       "<tr><td>LHS 1478</td><td>LHS 1478 b</td><td>18.2276</td><td>02h57m21.33s</td><td>+76d33m05.06s</td><td>8.767</td><td>0.24</td><td>0.25</td><td>3381.0</td><td>1.242</td><td>2.33</td><td>1.9495378</td><td>0.01848</td><td>87.452</td><td>1</td><td>1</td></tr>\n",
       "<tr><td>...</td><td>...</td><td>...</td><td>...</td><td>...</td><td>...</td><td>...</td><td>...</td><td>...</td><td>...</td><td>...</td><td>...</td><td>...</td><td>...</td><td>...</td><td>...</td></tr>\n",
       "<tr><td>LTT 1445 A</td><td>LTT 1445 A b</td><td>6.86929</td><td>03h01m50.99s</td><td>-16d35m40.18s</td><td>6.496</td><td>0.26</td><td>0.27</td><td>3340.0</td><td>1.305</td><td>2.87</td><td>5.3587657</td><td>0.03813</td><td>89.68</td><td>1</td><td>1</td></tr>\n",
       "<tr><td>TOI-1468</td><td>TOI-1468 b</td><td>24.7399</td><td>01h06m36.93s</td><td>+19d13m29.71s</td><td>8.497</td><td>0.34</td><td>0.34</td><td>3496.0</td><td>1.28</td><td>3.21</td><td>1.8805136</td><td>--</td><td>88.47</td><td>1</td><td>1</td></tr>\n",
       "<tr><td>TOI-540</td><td>TOI-540 b</td><td>14.0022</td><td>05h05m14.33s</td><td>-47d56m15.14s</td><td>8.9</td><td>0.16</td><td>0.19</td><td>3216.0</td><td>0.903</td><td>0.674</td><td>1.2391491</td><td>0.01223</td><td>86.8</td><td>1</td><td>0</td></tr>\n",
       "<tr><td>TRAPPIST-1</td><td>TRAPPIST-1 c</td><td>12.4298888</td><td>23h06m30.33s</td><td>-05d02m36.46s</td><td>10.296</td><td>0.09</td><td>0.12</td><td>2566.0</td><td>1.097</td><td>1.308</td><td>2.421937</td><td>0.0158</td><td>89.778</td><td>1</td><td>0</td></tr>\n",
       "<tr><td>TRAPPIST-1</td><td>TRAPPIST-1 b</td><td>12.4298888</td><td>23h06m30.33s</td><td>-05d02m36.46s</td><td>10.296</td><td>0.09</td><td>0.12</td><td>2566.0</td><td>1.116</td><td>1.374</td><td>1.510826</td><td>0.01154</td><td>89.728</td><td>1</td><td>0</td></tr>\n",
       "<tr><td>TRAPPIST-1</td><td>TRAPPIST-1 h</td><td>12.4298888</td><td>23h06m30.33s</td><td>-05d02m36.46s</td><td>10.296</td><td>0.09</td><td>0.12</td><td>2566.0</td><td>0.755</td><td>0.326</td><td>18.772866</td><td>0.06189</td><td>89.805</td><td>1</td><td>0</td></tr>\n",
       "<tr><td>TRAPPIST-1</td><td>TRAPPIST-1 e</td><td>12.4298888</td><td>23h06m30.33s</td><td>-05d02m36.46s</td><td>10.296</td><td>0.09</td><td>0.12</td><td>2566.0</td><td>0.92</td><td>0.692</td><td>6.101013</td><td>0.02925</td><td>89.793</td><td>1</td><td>0</td></tr>\n",
       "<tr><td>TRAPPIST-1</td><td>TRAPPIST-1 f</td><td>12.4298888</td><td>23h06m30.33s</td><td>-05d02m36.46s</td><td>10.296</td><td>0.09</td><td>0.12</td><td>2566.0</td><td>1.045</td><td>1.039</td><td>9.20754</td><td>0.03849</td><td>89.74</td><td>1</td><td>0</td></tr>\n",
       "<tr><td>TRAPPIST-1</td><td>TRAPPIST-1 g</td><td>12.4298888</td><td>23h06m30.33s</td><td>-05d02m36.46s</td><td>10.296</td><td>0.09</td><td>0.12</td><td>2566.0</td><td>1.129</td><td>1.321</td><td>12.352446</td><td>0.04683</td><td>89.742</td><td>1</td><td>0</td></tr>\n",
       "<tr><td>TRAPPIST-1</td><td>TRAPPIST-1 d</td><td>12.4298888</td><td>23h06m30.33s</td><td>-05d02m36.46s</td><td>10.296</td><td>0.09</td><td>0.12</td><td>2566.0</td><td>0.788</td><td>0.388</td><td>4.049219</td><td>0.02227</td><td>89.896</td><td>1</td><td>0</td></tr>\n",
       "</table></div>"
      ],
      "text/plain": [
       "<Table length=24>\n",
       " hostname    pl_name     sy_dist      rastr     ... pl_orbincl tran_flag rv_flag\n",
       "  str10       str12      float64      str12     ...  float64     int64    int64 \n",
       "---------- ------------ ---------- ------------ ... ---------- --------- -------\n",
       "   GJ 1132    GJ 1132 b     12.613 10h14m50.18s ...      86.58         1       1\n",
       "    GJ 357     GJ 357 b    9.44181 09h36m01.79s ...      89.12         1       1\n",
       "   GJ 3929    GJ 3929 b    15.8095 15h58m18.62s ...     88.442         1       1\n",
       "    GJ 486     GJ 486 b    8.07426 12h47m55.57s ...       88.4         1       1\n",
       "   L 98-59    L 98-59 c    10.6194 08h18m07.89s ...      88.11         1       1\n",
       "   L 98-59    L 98-59 d    10.6194 08h18m07.89s ...     88.449         1       1\n",
       "   L 98-59    L 98-59 b    10.6194 08h18m07.89s ...      87.71         1       1\n",
       "  LHS 1140   LHS 1140 c    14.9861 00h44m59.67s ...     89.913         1       1\n",
       "  LHS 1140   LHS 1140 b    14.9861 00h44m59.67s ...     89.877         1       1\n",
       "  LHS 1478   LHS 1478 b    18.2276 02h57m21.33s ...     87.452         1       1\n",
       "       ...          ...        ...          ... ...        ...       ...     ...\n",
       "LTT 1445 A LTT 1445 A b    6.86929 03h01m50.99s ...      89.68         1       1\n",
       "  TOI-1468   TOI-1468 b    24.7399 01h06m36.93s ...      88.47         1       1\n",
       "   TOI-540    TOI-540 b    14.0022 05h05m14.33s ...       86.8         1       0\n",
       "TRAPPIST-1 TRAPPIST-1 c 12.4298888 23h06m30.33s ...     89.778         1       0\n",
       "TRAPPIST-1 TRAPPIST-1 b 12.4298888 23h06m30.33s ...     89.728         1       0\n",
       "TRAPPIST-1 TRAPPIST-1 h 12.4298888 23h06m30.33s ...     89.805         1       0\n",
       "TRAPPIST-1 TRAPPIST-1 e 12.4298888 23h06m30.33s ...     89.793         1       0\n",
       "TRAPPIST-1 TRAPPIST-1 f 12.4298888 23h06m30.33s ...      89.74         1       0\n",
       "TRAPPIST-1 TRAPPIST-1 g 12.4298888 23h06m30.33s ...     89.742         1       0\n",
       "TRAPPIST-1 TRAPPIST-1 d 12.4298888 23h06m30.33s ...     89.896         1       0"
      ]
     },
     "execution_count": 3,
     "metadata": {},
     "output_type": "execute_result"
    }
   ],
   "source": [
    "smallPlanetSystems"
   ]
  },
  {
   "cell_type": "code",
   "execution_count": null,
   "id": "eaaef502",
   "metadata": {
    "scrolled": true
   },
   "outputs": [],
   "source": []
  },
  {
   "cell_type": "code",
   "execution_count": 4,
   "id": "70450c44",
   "metadata": {},
   "outputs": [],
   "source": [
    "#smallPlanetSystems = ascii.read('/home/hannah/Research/PlanetarySystems/SmallTransitingPlanetarySystems.csv')\n",
    "#ok = smallPlanetSystems['Rp_Rearth'] < 1.85\n",
    "#smallPlanetSystems['StarName'][ok]"
   ]
  },
  {
   "cell_type": "code",
   "execution_count": 5,
   "id": "638d9683",
   "metadata": {},
   "outputs": [
    {
     "data": {
      "text/html": [
       "<i>Row index=2</i>\n",
       "<table id=\"table140492909114848\">\n",
       "<thead><tr><th>hostname</th><th>pl_name</th><th>sy_dist</th><th>rastr</th><th>decstr</th><th>sy_kmag</th><th>st_mass</th><th>st_rad</th><th>st_teff</th><th>pl_rade</th><th>pl_bmasse</th><th>pl_orbper</th><th>pl_orbsmax</th><th>pl_orbincl</th><th>tran_flag</th><th>rv_flag</th></tr></thead>\n",
       "<thead><tr><th>str10</th><th>str12</th><th>float64</th><th>str12</th><th>str13</th><th>float64</th><th>float64</th><th>float64</th><th>float64</th><th>float64</th><th>float64</th><th>float64</th><th>float64</th><th>float64</th><th>int64</th><th>int64</th></tr></thead>\n",
       "<tr><td>GJ 3929</td><td>GJ 3929 b</td><td>15.8095</td><td>15h58m18.62s</td><td>+35d24m29.21s</td><td>7.869</td><td>0.31</td><td>0.32</td><td>3384.0</td><td>1.09</td><td>1.75</td><td>2.616235</td><td>0.0252</td><td>88.442</td><td>1</td><td>1</td></tr>\n",
       "</table>"
      ],
      "text/plain": [
       "<Row index=2>\n",
       "hostname  pl_name  sy_dist    rastr         decstr    sy_kmag st_mass  st_rad st_teff pl_rade pl_bmasse pl_orbper pl_orbsmax pl_orbincl tran_flag rv_flag\n",
       " str10     str12   float64    str12         str13     float64 float64 float64 float64 float64  float64   float64   float64    float64     int64    int64 \n",
       "-------- --------- ------- ------------ ------------- ------- ------- ------- ------- ------- --------- --------- ---------- ---------- --------- -------\n",
       " GJ 3929 GJ 3929 b 15.8095 15h58m18.62s +35d24m29.21s   7.869    0.31    0.32  3384.0    1.09      1.75  2.616235     0.0252     88.442         1       1"
      ]
     },
     "execution_count": 5,
     "metadata": {},
     "output_type": "execute_result"
    }
   ],
   "source": [
    "#targ = smallPlanetSystems[targ_inds[1][0]]\n",
    "targ = smallPlanetSystems[2]\n",
    "targ"
   ]
  },
  {
   "cell_type": "code",
   "execution_count": 6,
   "id": "96dbbd62",
   "metadata": {},
   "outputs": [],
   "source": [
    "# star_params\n",
    "star_name = targ['hostname']\n",
    "k_mag = targ['sy_kmag']\n",
    "\n",
    "# planet params\n",
    "tdur = orb.Tdur(P=targ['pl_orbper']*u.day, \n",
    "                Rp_Rs=((targ['pl_rade']*u.R_earth)/(targ['st_rad']*u.R_sun)).decompose(),\n",
    "                a_Rs = ((targ['pl_orbsmax']*u.AU)/(targ['st_rad']*u.R_sun)).decompose(),\n",
    "                i = targ['pl_orbincl']\n",
    "              )# event duration\n",
    "\n",
    "# obs params\n",
    "nobs = 2                # number of occultation obsrevations\n",
    "tfrac   = 1             # how many times transit duration to observe\n",
    "tsettle = 45 * u.min    # should be specific to MIRI\n",
    "tcharge = 1 * u.hr      # amount of charged time becuase JWST will not start observations right away\n",
    "noccultations = 1       # can always scale later\n",
    "mingroups = 5           # suggested for MIRI Imaging TSO\n",
    "expfact_out = 1         # bare minimum of out-of-transit baseline; but will be asking for more so not a big deal"
   ]
  },
  {
   "cell_type": "markdown",
   "id": "7378e46e",
   "metadata": {},
   "source": [
    "## Set up MIRI Imaging\n",
    "Set up a MIRI time-series imaging dictionary from pandeia.\n",
    "\n",
    "Grab some key parameters to use later.\n",
    "\n",
    "This dictionary can be updated and re-computed."
   ]
  },
  {
   "cell_type": "code",
   "execution_count": 7,
   "id": "7749d6fc",
   "metadata": {},
   "outputs": [],
   "source": [
    "filter    = 'f1500w'\n",
    "subarray  = 'sub256'\n",
    "pull_default_dict = False # needs to be true if you want to pull a new default dictionary from paneia\n",
    "make_new_bkg = True # should be true if working with different stars; otherwise set to False for speed"
   ]
  },
  {
   "cell_type": "code",
   "execution_count": 8,
   "id": "3c6610a6",
   "metadata": {},
   "outputs": [],
   "source": [
    "def get_bkg(targ, ref_wave, make_new_bkg=True):\n",
    "    \"\"\"\n",
    "    Code to retrieve sky background from the jwst backgrounds database based on system coordinates\n",
    "    JWST backgrounds: https://jwst-docs.stsci.edu/jwst-general-support/jwst-background-model\n",
    "    \n",
    "    Inputs:\n",
    "    targ          -- dictionary of target; must include RA and Dec of system as strings\n",
    "    ref_wave      -- reference wavelength for jbt to return \n",
    "    make_new_bkg  -- default=True; otherwise you can load up the last background called, \n",
    "                                   use if only working with one system\n",
    "                                   \n",
    "    Returns:\n",
    "    background    -- list of two lists containing wavelength (um) and background counts (mJy/sr)\n",
    "    \"\"\"\n",
    "    \n",
    "    sys_coords = targ['rastr']+' '+targ['decstr']\n",
    "\n",
    "    if make_new_bkg:\n",
    "        # make astropy coordinates object\n",
    "        c = SkyCoord(sys_coords, unit=(u.hourangle, u.deg))\n",
    "\n",
    "        # use jwst backgrounds to compute background at this point\n",
    "        bg = jbt.background(c.ra.deg, c.dec.deg, ref_wave)\n",
    "\n",
    "        # background is computed for many days; choose one\n",
    "        ndays = bg.bkg_data['calendar'].size\n",
    "        assert ndays > 0  # make sure object is visible at some point in the year; if not check coords\n",
    "        middleday = bg.bkg_data['calendar'][int(ndays / 2)] # picking the middle visible date; somewhat arbitrary!\n",
    "        middleday_indx = np.argwhere(bg.bkg_data['calendar'] == middleday)[0][0]\n",
    "\n",
    "        tot_bkg = bg.bkg_data['total_bg'][middleday_indx]\n",
    "        wav_bkg = bg.bkg_data['wave_array']\n",
    "\n",
    "        # background is [wavelength, total_background] in [micron, mJy/sr]\n",
    "        background = [list(np.array(wav_bkg)), list(np.array(tot_bkg))]\n",
    "\n",
    "        ascii.write(background, \"background.txt\", overwrite=True)\n",
    "\n",
    "    else: \n",
    "        background = ascii.read(\"background.txt\")\n",
    "        background = [list(background['col0']), list(background['col1'])]\n",
    "        \n",
    "    return background"
   ]
  },
  {
   "cell_type": "code",
   "execution_count": 9,
   "id": "0e84652c",
   "metadata": {},
   "outputs": [],
   "source": [
    "def make_miri_dict(filter, subarray, targ, pull_default_dict=True):\n",
    "    \"\"\"\n",
    "    Code to make the initial miri dictionally for imaging_ts\n",
    "    \n",
    "    Inputs:\n",
    "    filter            -- which photometric filter to use (e.g., f1500w)\n",
    "    subarray          -- which subarray readout ot use (e.g., sub256)\n",
    "    sys_coords        -- string of the coordinates of the system in RA Dec; e.g. \"23h06m30.33s -05d02m36.46s\";\n",
    "                         to be passed to get_bkg function\n",
    "    pull_default_dict -- default=True; can re-use a saved one but this doesn't save much time.\n",
    "    \"\"\"\n",
    "\n",
    "    # grab default imaging ts dictionary (I think this only works online?)\n",
    "    if pull_default_dict:\n",
    "        miri_imaging_ts = build_default_calc('jwst', 'miri', 'imaging_ts')\n",
    "\n",
    "        # Serializing json\n",
    "        json_object = json.dumps(miri_imaging_ts, indent=4)\n",
    "\n",
    "        # Writing to sample.json\n",
    "        with open(\"miri_imaging_ts.json\", \"w\") as outfile:\n",
    "            outfile.write(json_object)\n",
    "\n",
    "    else: \n",
    "        with open(\"miri_imaging_ts.json\", \"r\") as f:\n",
    "            miri_imaging_ts = json.load(f)\n",
    "            \n",
    "    if   filter == 'f1500w': ref_wave = 15 * u.micron\n",
    "    elif filter == 'f1800w': ref_wave = 18 * u.micron\n",
    "            \n",
    "    # update with basic parameters\n",
    "    miri_imaging_ts['configuration']['instrument']['filter'] = filter\n",
    "    miri_imaging_ts['configuration']['detector']['subarray'] = subarray\n",
    "       \n",
    "    miri_imaging_ts['configuration']['detector']['ngroup']   = 2    \n",
    "    miri_imaging_ts['configuration']['detector']['nint'] = 1 \n",
    "    miri_imaging_ts['configuration']['detector']['nexp'] = 1\n",
    "    miri_imaging_ts['configuration']['detector']['readout_pattern'] = 'fastr1'\n",
    "    try: miri_imaging_ts['configuration'].pop('max_filter_leak')\n",
    "    except(KeyError): pass\n",
    "\n",
    "    miri_imaging_ts['scene'][0]['spectrum']['normalization'] = {}\n",
    "    miri_imaging_ts['scene'][0]['spectrum']['normalization']['type']          = 'photsys'\n",
    "    miri_imaging_ts['scene'][0]['spectrum']['normalization']['norm_fluxunit'] = 'vegamag'\n",
    "    miri_imaging_ts['scene'][0]['spectrum']['normalization']['bandpass']      = 'johnson,k'\n",
    "    miri_imaging_ts['scene'][0]['spectrum']['normalization']['norm_flux']     = k_mag           # change this for different stars\n",
    "\n",
    "    miri_imaging_ts['scene'][0]['spectrum']['sed']['key']          = 'm5v'\n",
    "    miri_imaging_ts['scene'][0]['spectrum']['sed']['sed_type']     = 'phoenix'\n",
    "    try: miri_imaging_ts['scene'][0]['spectrum']['sed'].pop('unit')\n",
    "    except(KeyError): pass\n",
    "\n",
    "    miri_imaging_ts['background'] = get_bkg(targ, ref_wave)\n",
    "    miri_imaging_ts['background_level'] = 'high'\n",
    "\n",
    "    miri_imaging_ts['strategy']['aperture_size']  = 0.7\n",
    "    miri_imaging_ts['strategy']['sky_annulus']    = [2, 2.8]\n",
    "\n",
    "    return miri_imaging_ts"
   ]
  },
  {
   "cell_type": "code",
   "execution_count": null,
   "id": "2b21e8bb",
   "metadata": {},
   "outputs": [],
   "source": []
  },
  {
   "cell_type": "code",
   "execution_count": null,
   "id": "147405a3",
   "metadata": {},
   "outputs": [],
   "source": []
  },
  {
   "cell_type": "code",
   "execution_count": null,
   "id": "315858c0",
   "metadata": {},
   "outputs": [],
   "source": []
  },
  {
   "cell_type": "code",
   "execution_count": null,
   "id": "3596067b",
   "metadata": {},
   "outputs": [],
   "source": []
  },
  {
   "cell_type": "markdown",
   "id": "253f9160",
   "metadata": {},
   "source": [
    "## Configure pandeia input"
   ]
  },
  {
   "cell_type": "code",
   "execution_count": null,
   "id": "9fc58640",
   "metadata": {},
   "outputs": [],
   "source": []
  },
  {
   "cell_type": "code",
   "execution_count": null,
   "id": "b991595a",
   "metadata": {},
   "outputs": [],
   "source": []
  },
  {
   "cell_type": "markdown",
   "id": "34cfcb04",
   "metadata": {},
   "source": [
    "## Determine the optimal number of groups per integration\n",
    "For MIRI this is likely slightly underestimated, so consider adding ~few groups to output.\n",
    "\n",
    "Code blatently copie from pandexo (thanks Natasha!)."
   ]
  },
  {
   "cell_type": "code",
   "execution_count": 10,
   "id": "dbb8468d",
   "metadata": {},
   "outputs": [],
   "source": [
    "# if you want to calculate optiman number of groups run following, otherwise defind yourself.\n",
    "def get_timing(miri_dict):\n",
    "    \n",
    "    report = perform_calculation(miri_dict)\n",
    "    tframe   = report['information']['exposure_specification']['tframe']        * u.s\n",
    "    nframe   = report['information']['exposure_specification']['nframe']\n",
    "    nskip    = report['information']['exposure_specification']['nsample_skip']\n",
    "    \n",
    "    i = InstrumentFactory(miri_dict['configuration'])\n",
    "    det_pars = i.read_detector_pars()\n",
    "    fullwell = det_pars['fullwell']\n",
    "    sat_level = 0.8 * fullwell\n",
    "\n",
    "    report = perform_calculation(miri_dict, dict_report=False)\n",
    "    report_dict = report.as_dict()\n",
    "    \n",
    "    \n",
    "    #report = perform_calculation(miri_imaging_ts, dict_report=False)\n",
    "    report_dict = report.as_dict() \n",
    "\n",
    "    # count rate on the detector in e-/second/pixel\n",
    "    #det = report_dict['2d']['detector']\n",
    "    det = report.signal.rate_plus_bg_list[0]['fp_pix']\n",
    "\n",
    "    timeinfo = report_dict['information']['exposure_specification']\n",
    "    #totaltime = timeinfo['tgroup']*timeinfo['ngroup']*timeinfo['nint']\n",
    "\n",
    "    maxdetvalue = np.max(det)\n",
    "\n",
    "    #maximum time before saturation per integration \n",
    "    #based on user specified saturation level\n",
    "\n",
    "    try:\n",
    "        maxexptime_per_int = sat_level/maxdetvalue\n",
    "    except: \n",
    "        maxexptime_per_int = np.nan\n",
    "\n",
    "    transit_duration = tdur.to(u.s).value\n",
    "    frame_time = tframe.value\n",
    "    overhead_per_int = tframe #overhead time added per integration \n",
    "    min_nint_trans = 3\n",
    "    max_ngroup = 100\n",
    "    #try: \n",
    "        #are we starting with a exposure time ?\n",
    "    #    maxexptime_per_int = m['maxexptime_per_int']\n",
    "    #except:\n",
    "        #or a pre defined number of groups specified by user\n",
    "    #    ngroups_per_int = m['ngroup']\n",
    "\n",
    "    flag_default = \"All good\"\n",
    "    flag_high = \"All good\"\n",
    "    if 'maxexptime_per_int' in locals():\n",
    "        #Frist, if maxexptime_per_int has been defined (from above), compute ngroups_per_int\n",
    "\n",
    "        #number of frames in one integration is the maximum time beofre exposure \n",
    "        #divided by the time it takes for one frame. Note this does not include \n",
    "        #reset frames \n",
    "\n",
    "        nframes_per_int = np.floor(maxexptime_per_int/frame_time)\n",
    "\n",
    "        #for exoplanets nframe =1 an nskip always = 0 so ngroups_per_int \n",
    "        #and nframes_per_int area always the same \n",
    "        ngroups_per_int = np.floor(nframes_per_int/(nframe + nskip)) \n",
    "\n",
    "        #put restriction on number of groups \n",
    "        #there is a hard limit to the maximum number groups. \n",
    "        #if you exceed that limit, set it to the maximum value instead.\n",
    "        #also set another check for saturation\n",
    "\n",
    "        if ngroups_per_int > max_ngroup:\n",
    "            ngroups_per_int = max_ngroup\n",
    "            flag_high = \"Groups/int > max num of allowed groups\"\n",
    "\n",
    "        if (ngroups_per_int < mingroups) | np.isnan(ngroups_per_int):\n",
    "            ngroups_per_int = mingroups  \n",
    "            nframes_per_int = mingroups\n",
    "            flag_default = \"NGROUPS<\"+str(mingroups)+\"SET TO NGROUPS=\"+str(mingroups)\n",
    "\n",
    "    elif 'ngroups_per_int' in locals(): \n",
    "        #if it maxexptime_per_int been defined then set nframes per int \n",
    "        nframes_per_int = ngroups_per_int*(nframe+nskip)\n",
    "\n",
    "        #if that didn't work its because maxexptime_per_int is nan .. run calc with mingroups\n",
    "    else:\n",
    "        #if maxexptime_per_int is nan then just ngroups and nframe to 2 \n",
    "        #for the sake of not returning error\n",
    "        ngroups_per_int = mingroups\n",
    "        nframes_per_int = mingroups\n",
    "        flag_default = \"Something went wrong. SET TO NGROUPS=\"+str(mingroups)\n",
    "\n",
    "\n",
    "    #the integration time is related to the number of groups and the time of each \n",
    "    #group \n",
    "    exptime_per_int = ngroups_per_int*tframe\n",
    "\n",
    "    #clock time includes the reset frame \n",
    "    clocktime_per_int = (ngroups_per_int+1.0)*tframe\n",
    "\n",
    "    #observing efficiency (i.e. what percentage of total time is spent on soure)\n",
    "    eff = (exptime_per_int)/(clocktime_per_int)\n",
    "\n",
    "    #this says \"per occultation\" but this is just the in transit frames.. See below\n",
    "    # transit duration / ((ngroups + reset)*frame time)\n",
    "    nint_per_occultation =  transit_duration/((ngroups_per_int+1.0)*frame_time)\n",
    "\n",
    "    #figure out how many integrations are in transit and how many are out of transit \n",
    "    nint_in = np.ceil(nint_per_occultation)\n",
    "    nint_out = np.ceil(nint_in/expfact_out)\n",
    "\n",
    "    #you would never want a single integration in transit. \n",
    "    #here we assume that for very dim things, you would want at least \n",
    "    #3 integrations in transit \n",
    "    if nint_in < min_nint_trans:\n",
    "        ngroups_per_int = np.floor(ngroups_per_int/min_nint_trans)\n",
    "        exptime_per_int = (ngroups_per_int)*tframe\n",
    "        clocktime_per_int = ngroups_per_int*tframe\n",
    "        eff = (ngroups_per_int - 1.0)/(ngroups_per_int + 1.0)\n",
    "        nint_per_occultation =  tdur/((ngroups_per_int+1.0)*tframe)\n",
    "        nint_in = np.ceil(nint_per_occultation)\n",
    "        nint_out = np.ceil(nint_in/expfact_out)\n",
    "\n",
    "    if nint_out < min_nint_trans:\n",
    "        nint_out = min_nint_trans\n",
    "\n",
    "    timing = {\n",
    "        #\"Transit Duration\" : (transit_duration)/60.0/60.0,\n",
    "        \"Seconds per Frame\" : tframe,\n",
    "        \"Time/Integration incl reset (sec)\":clocktime_per_int,\n",
    "        \"APT: Num Groups per Integration\" :int(ngroups_per_int), \n",
    "        #\"Num Integrations Out of Transit\":int(nint_out),\n",
    "        \"Num Integrations In Transit\":int(nint_in),\n",
    "        \"APT: Num Integrations per Occultation\":int(nint_out+nint_in),\n",
    "        \"Observing Efficiency (%)\": eff*100.0,\n",
    "        #\"Transit+Baseline, no overhead (hrs)\": (nint_out+nint_in)*clocktime_per_int/60.0/60.0, \n",
    "        \"Number of Transits\": noccultations\n",
    "    }\n",
    "    \n",
    "    return timing"
   ]
  },
  {
   "cell_type": "code",
   "execution_count": 11,
   "id": "123960ab",
   "metadata": {},
   "outputs": [
    {
     "name": "stderr",
     "output_type": "stream",
     "text": [
      "/home/hannah/programs/anaconda3/lib/python3.8/site-packages/pandeia/engine/report.py:921: RuntimeWarning: divide by zero encountered in log\n",
      "  if np.log(abs(val)) < -1*precision and val != 0.0:\n"
     ]
    },
    {
     "data": {
      "text/plain": [
       "{'Seconds per Frame': <Quantity 0.29952 s>,\n",
       " 'Time/Integration incl reset (sec)': <Quantity 6.88896 s>,\n",
       " 'APT: Num Groups per Integration': 22,\n",
       " 'Num Integrations In Transit': 570,\n",
       " 'APT: Num Integrations per Occultation': 1140,\n",
       " 'Observing Efficiency (%)': <Quantity 95.65217391>,\n",
       " 'Number of Transits': 1}"
      ]
     },
     "execution_count": 11,
     "metadata": {},
     "output_type": "execute_result"
    }
   ],
   "source": [
    "# for MIRI, this calculation underestimates the number of groups; \n",
    "# experiment with adding extra groups and checking warnings\n",
    "miri_imaging_ts = make_miri_dict(filter, subarray, targ)\n",
    "timing = get_timing(miri_imaging_ts)\n",
    "timing"
   ]
  },
  {
   "cell_type": "code",
   "execution_count": 12,
   "id": "cca339e8",
   "metadata": {
    "scrolled": true
   },
   "outputs": [
    {
     "name": "stdout",
     "output_type": "stream",
     "text": [
      "ETC Warnings:\n",
      "{}\n"
     ]
    }
   ],
   "source": [
    "ngroup = timing['APT: Num Groups per Integration']\n",
    "miri_imaging_ts['configuration']['detector']['ngroup'] = ngroup\n",
    "report = perform_calculation(miri_imaging_ts)\n",
    "\n",
    "print('ETC Warnings:')\n",
    "print(report['warnings'])"
   ]
  },
  {
   "cell_type": "code",
   "execution_count": 13,
   "id": "fd76e0a2",
   "metadata": {},
   "outputs": [
    {
     "name": "stdout",
     "output_type": "stream",
     "text": [
      "time per single integration: 6.58944 s\n",
      "cadence (integration time plus reset): 6.88896 s\n",
      "number of in-occultation integrations: 569.625430374708\n"
     ]
    }
   ],
   "source": [
    "tframe  = report['information']['exposure_specification']['tframe'] * u.s\n",
    "tint    = tframe * ngroup                         # amount of time per integration\n",
    "treset  = 1*tframe                                # reset time between each integration\n",
    "cadence = tint + treset\n",
    "nint    = (tdur/(tint + treset)).decompose()      # number of in-transit integrations\n",
    "ref_wave = report['scalar']['reference_wavelength']                         * u.micron\n",
    "\n",
    "print('time per single integration:', tint)\n",
    "print('cadence (integration time plus reset):', cadence)\n",
    "print('number of in-occultation integrations:', nint.decompose())"
   ]
  },
  {
   "cell_type": "markdown",
   "id": "360671f2",
   "metadata": {},
   "source": [
    "## Compute noise per integration\n",
    "For star only; then will add in light curve"
   ]
  },
  {
   "cell_type": "code",
   "execution_count": 14,
   "id": "2172e410",
   "metadata": {},
   "outputs": [],
   "source": [
    "# calculate shot noise\n",
    "#F_extracted = report_dict['scalar']['extracted_flux'] / u.s # electrons per sec\n",
    "#var_shot = F_extracted * tgroup * (ngroup - 1) * nint + F_extracted * tgroup * (ngroup - 1) * nint\n",
    "#var_shot = F_extracted * tframe * (ngroup-1)\n",
    "#var_shot"
   ]
  },
  {
   "cell_type": "code",
   "execution_count": 15,
   "id": "1fd5d7b4",
   "metadata": {},
   "outputs": [],
   "source": [
    "# calculate background noise\n",
    "#F_background = report_dict['scalar']['background_sky'] / u.s # electrons per sec\n",
    "#var_bkg = F_background * tframe * (ngroup-1)   # times total integration time\n",
    "#var_bkg"
   ]
  },
  {
   "cell_type": "code",
   "execution_count": 16,
   "id": "b6c9273d",
   "metadata": {},
   "outputs": [],
   "source": [
    "# calculate read noise\n",
    "#rn = i.read_detector_pars()['rn']\n",
    "#npix = report_dict['scalar']['extraction_area']\n",
    " \n",
    "# From Bathala (2017): The factor of 2 comes from the fact that Pandeiaʼs RN values\n",
    "# are given in units of e−/frame. Since we are subtracting the last frame from the first, \n",
    "# we must account for both frames\n",
    "#var_read = rn**2 * npix \n",
    "#var_read"
   ]
  },
  {
   "cell_type": "code",
   "execution_count": 17,
   "id": "b0a0c389",
   "metadata": {},
   "outputs": [],
   "source": [
    "#var_F = var_shot + var_read + var_bkg\n",
    "#print(var_F)\n",
    "#sigma_F = np.sqrt(var_F)\n",
    "#sigma_F"
   ]
  },
  {
   "cell_type": "code",
   "execution_count": 18,
   "id": "1009ce55",
   "metadata": {},
   "outputs": [],
   "source": [
    "#F_extracted, F_background"
   ]
  },
  {
   "cell_type": "code",
   "execution_count": 19,
   "id": "677a3d31",
   "metadata": {},
   "outputs": [],
   "source": [
    "def get_calibration(miri_dict):\n",
    "\n",
    "    miri_imaging_ts_calibration = copy.deepcopy(miri_imaging_ts)\n",
    "\n",
    "    miri_imaging_ts_calibration['scene'][0]['spectrum']['sed']['sed_type']     = 'flat'\n",
    "    miri_imaging_ts_calibration['scene'][0]['spectrum']['sed']['unit']         = 'flam'\n",
    "    miri_imaging_ts_calibration['scene'][0]['spectrum']['sed'].pop('key')\n",
    "\n",
    "    miri_imaging_ts_calibration['scene'][0]['spectrum']['normalization']['type']          = 'at_lambda'\n",
    "    miri_imaging_ts_calibration['scene'][0]['spectrum']['normalization']['norm_wave']     = 2\n",
    "    miri_imaging_ts_calibration['scene'][0]['spectrum']['normalization']['norm_waveunit'] = 'um'\n",
    "    miri_imaging_ts_calibration['scene'][0]['spectrum']['normalization']['norm_flux']     = 1e-18\n",
    "    miri_imaging_ts_calibration['scene'][0]['spectrum']['normalization']['norm_fluxunit'] = 'flam'\n",
    "    miri_imaging_ts_calibration['scene'][0]['spectrum']['normalization'].pop('bandpass')\n",
    "    \n",
    "    return miri_imaging_ts_calibration"
   ]
  },
  {
   "cell_type": "code",
   "execution_count": 20,
   "id": "fa244aa8",
   "metadata": {},
   "outputs": [
    {
     "name": "stdout",
     "output_type": "stream",
     "text": [
      "Calibartion Warnings:\n",
      "{}\n"
     ]
    }
   ],
   "source": [
    "miri_imaging_ts_calibration = get_calibration(miri_imaging_ts)\n",
    "report_calibration = perform_calculation(miri_imaging_ts_calibration)\n",
    "print('Calibartion Warnings:')\n",
    "print(report_calibration['warnings'])"
   ]
  },
  {
   "cell_type": "code",
   "execution_count": null,
   "id": "9753b517",
   "metadata": {},
   "outputs": [],
   "source": []
  },
  {
   "cell_type": "code",
   "execution_count": null,
   "id": "91d2138f",
   "metadata": {},
   "outputs": [],
   "source": []
  },
  {
   "cell_type": "code",
   "execution_count": null,
   "id": "e6b81bed",
   "metadata": {},
   "outputs": [],
   "source": []
  },
  {
   "cell_type": "code",
   "execution_count": null,
   "id": "78aa296c",
   "metadata": {},
   "outputs": [],
   "source": []
  },
  {
   "cell_type": "code",
   "execution_count": null,
   "id": "7909ff09",
   "metadata": {},
   "outputs": [],
   "source": []
  },
  {
   "cell_type": "code",
   "execution_count": 21,
   "id": "9a095d78",
   "metadata": {},
   "outputs": [],
   "source": [
    "#time = np.linspace(-0.5, 0.5, 500)\n",
    "#flux = np.ones(len(time))\n",
    "#npts = 500\n",
    "#time = np.linspace(-0.3, 0.3, npts)"
   ]
  },
  {
   "cell_type": "code",
   "execution_count": null,
   "id": "088e24f2",
   "metadata": {},
   "outputs": [],
   "source": []
  },
  {
   "cell_type": "code",
   "execution_count": 22,
   "id": "c491d76e",
   "metadata": {},
   "outputs": [
    {
     "name": "stderr",
     "output_type": "stream",
     "text": [
      "Pre-computing some matrices... Done.\n"
     ]
    }
   ],
   "source": [
    "# Creating a star\n",
    "M_s  = 1\n",
    "R_s  = 1\n",
    "prot = 1\n",
    "\n",
    "starA = st.Primary(\n",
    "    st.Map(ydeg = 1, udeg = 2, nw = 1, amp = 1.0), \n",
    "    m    = M_s,\n",
    "    r    = R_s, \n",
    "    prot = prot\n",
    ")\n",
    "#print(starA.map.amp)\n",
    "#print(starA.map.udeg)\n",
    "#starA.map.show()"
   ]
  },
  {
   "cell_type": "code",
   "execution_count": 23,
   "id": "ee4b26ab",
   "metadata": {},
   "outputs": [],
   "source": [
    "# adapted from Mette's code\n",
    "def make_planet(plnt, phase=0, t0=0, tidally_locked=True):\n",
    "    m_p     = ((plnt['pl_bmasse']*u.M_earth)/(plnt['st_mass']*u.M_sun)).decompose()\n",
    "    r_p     = ((plnt['pl_bmasse']*u.R_earth)/(plnt['st_mass']*u.R_sun)).decompose()\n",
    "    porb    = plnt['pl_orbper']\n",
    "    prot    = plnt['pl_orbper']\n",
    "    Omega   = 0\n",
    "    ecc     = 0\n",
    "    w       = 90\n",
    "    t0      = t0\n",
    "    theta0  = 180\n",
    "    inc     = plnt['pl_orbincl']\n",
    "\n",
    "    planet  = st.kepler.Secondary(\n",
    "        st.Map(ydeg = 5, nw = 1, amp = 5e-3),               \n",
    "        m      = m_p,                                \n",
    "        r      = r_p,                          \n",
    "        porb   = porb,                                                      \n",
    "        prot   = prot,                                       \n",
    "        Omega  = Omega,                                         \n",
    "        ecc    = ecc,                                                         \n",
    "        w      = w,                                  \n",
    "        t0     = t0,                           \n",
    "        theta0 = theta0,                           \n",
    "        inc    = inc                             \n",
    "    )\n",
    "    \n",
    "    if tidally_locked:\n",
    "        planet.map.spot(contrast = -1, radius = 60)\n",
    "        \n",
    "    return planet"
   ]
  },
  {
   "cell_type": "code",
   "execution_count": 24,
   "id": "df63beb7",
   "metadata": {},
   "outputs": [],
   "source": [
    "def flux_amplitude(T_s, T_p, wavelength, R_s, R_p):\n",
    "    \n",
    "    ''' This function will take in the Temperature in Kelvin, \n",
    "    and the wavelength range that we are looking at,\n",
    "    as well as the the radius of the star and the planet. '''\n",
    "    \n",
    "    bb_s = BlackBody(T_s, scale=1*u.erg/u.s/u.cm**2/u.AA/u.sr)\n",
    "    bb_p = BlackBody(T_p, scale=1*u.erg/u.s/u.cm**2/u.AA/u.sr)\n",
    "    \n",
    "    Flux_ratio = bb_p(wavelength)/bb_s(wavelength) * (R_p/R_s)**2\n",
    "        \n",
    "    return Flux_ratio.decompose()\n",
    "\n",
    "def T_day(T_s, R_s, a, albedo, atmo='bare rock'):\n",
    "    # can be 'bare rock' or 'equilibrium'\n",
    "    if   atmo == 'bare rock': f = 2/3\n",
    "    elif atmo == 'equilibrium': f = 1/4\n",
    "    \n",
    "    T_day = T_s * np.sqrt((R_s/a).decompose()) * (1 - albedo)**(1/4) * f**(1/4)\n",
    "    \n",
    "    return T_day"
   ]
  },
  {
   "cell_type": "code",
   "execution_count": null,
   "id": "44d60d47",
   "metadata": {},
   "outputs": [],
   "source": []
  },
  {
   "cell_type": "code",
   "execution_count": 25,
   "id": "a71415a4",
   "metadata": {},
   "outputs": [
    {
     "name": "stderr",
     "output_type": "stream",
     "text": [
      "Pre-computing some matrices... Done.\n",
      "Compiling `spot`..."
     ]
    },
    {
     "name": "stdout",
     "output_type": "stream",
     "text": [
      "0.00012089778390695385 7.570109680393446e-05\n"
     ]
    },
    {
     "name": "stderr",
     "output_type": "stream",
     "text": [
      " Done.\n"
     ]
    }
   ],
   "source": [
    "T_rock = T_day(targ['st_teff']*u.K, targ['st_rad']*u.R_sun, targ['pl_orbsmax']*u.AU, 0, atmo='bare rock')\n",
    "amp_rock = flux_amplitude(targ['st_teff']*u.K, T_rock, ref_wave, targ['st_rad']*u.R_sun, targ['pl_rade']*u.R_earth)\n",
    "\n",
    "T_atmo = T_day(targ['st_teff']*u.K, targ['st_rad']*u.R_sun, targ['pl_orbsmax']*u.AU, 0, atmo='equilibrium')\n",
    "amp_atmo = flux_amplitude(targ['st_teff']*u.K, T_atmo, ref_wave, targ['st_rad']*u.R_sun, targ['pl_rade']*u.R_earth)\n",
    "\n",
    "print(amp_rock, amp_atmo)\n",
    "planet_b = make_planet(targ)\n",
    "planet_b.map.amp = amp_rock\n",
    "\n"
   ]
  },
  {
   "cell_type": "code",
   "execution_count": 26,
   "id": "0ef9f48b",
   "metadata": {},
   "outputs": [],
   "source": [
    "#plnt_c_phase = 0.25\n",
    "\n",
    "#plnt_c = smallPlanetSystems[targ_inds[0][0]]\n",
    "#T_c_rock = T_day(plnt_c['st_teff']*u.K, plnt_c['st_rad']*u.R_sun, plnt_c['pl_orbsmax']*u.AU, 0, atmo='bare rock')\n",
    "#amp_c = flux_amplitude(plnt_c['st_teff']*u.K, T_c_rock, 15*u.micron, plnt_c['st_rad']*u.R_sun, plnt_c['pl_rade']*u.R_earth)\n",
    "#planet_c = make_planet(plnt_c, t0=0.5*targ['pl_orbper'] - plnt_c_phase*plnt_c['pl_orbper'])\n",
    "#planet_c.map.amp = amp_c"
   ]
  },
  {
   "cell_type": "code",
   "execution_count": 27,
   "id": "f308a8cd",
   "metadata": {},
   "outputs": [],
   "source": [
    "system = st.System(starA, planet_b)#, planet_c)"
   ]
  },
  {
   "cell_type": "code",
   "execution_count": 28,
   "id": "fe9bd88c",
   "metadata": {},
   "outputs": [],
   "source": [
    "snr = report['scalar']['sn']\n",
    "extracted_flux = report['scalar']['extracted_flux'] / u.s\n",
    "extracted_noise = report['scalar']['extracted_noise'] / u.s\n",
    "\n",
    "calibration_extracted_flux = report_calibration['scalar']['extracted_flux'] / u.s\n",
    "calibration_norm_value = report_calibration['input']['scene'][0]['spectrum']['normalization']['norm_flux']\n",
    "\n",
    "extracted_flux, extracted_noise, calibration_extracted_flux * calibration_norm_value\n",
    "\n",
    "#signal = extracted_flux * tint\n",
    "#noise  = extracted_noise * tint\n",
    "signal = extracted_flux / calibration_extracted_flux * calibration_norm_value  * u.erg/u.s/u.cm**2/u.AA\n",
    "noise  = extracted_noise / calibration_extracted_flux * calibration_norm_value  * u.erg/u.s/u.cm**2/u.AA\n",
    "\n",
    "noise /= np.sqrt(nobs)"
   ]
  },
  {
   "cell_type": "code",
   "execution_count": 29,
   "id": "d30eaca7",
   "metadata": {},
   "outputs": [
    {
     "data": {
      "text/plain": [
       "array([1.046494  , 1.04657374, 1.04665348, ..., 1.56958152, 1.56966126,\n",
       "       1.569741  ])"
      ]
     },
     "execution_count": 29,
     "metadata": {},
     "output_type": "execute_result"
    }
   ],
   "source": [
    "tstart = (targ['pl_orbper']*0.5 - targ['pl_orbper']*0.1) * u.day\n",
    "tend   = (targ['pl_orbper']*0.5 + targ['pl_orbper']*0.1) * u.day\n",
    "trange = tend - tstart\n",
    "total_int = int(np.ceil((trange/cadence).decompose()))\n",
    "\n",
    "signal_ts = np.ones(total_int)*signal\n",
    "scatter_ts = np.random.normal(0, noise.value, total_int) * u.erg/u.s/u.cm**2/u.AA\n",
    "signal_ts_scatter = signal_ts.value + scatter_ts.value\n",
    "\n",
    "time = np.linspace(tstart.value, tend.value, total_int) # times in... days?\n",
    "time\n",
    "#%matplotlib\n",
    "#plt.figure(figsize=(15, 4))\n",
    "#plt.plot(time, signal_ts_scatter, '.')\n",
    "#plt.plot(time, signal_ts, '-')"
   ]
  },
  {
   "cell_type": "code",
   "execution_count": 30,
   "id": "00b059b0",
   "metadata": {},
   "outputs": [
    {
     "name": "stderr",
     "output_type": "stream",
     "text": [
      "Compiling `X`... Done.\n"
     ]
    }
   ],
   "source": [
    "flux = np.hstack(system.flux(time))\n"
   ]
  },
  {
   "cell_type": "code",
   "execution_count": 31,
   "id": "3b1a6e13",
   "metadata": {},
   "outputs": [
    {
     "data": {
      "image/png": "[encoded data removed]",
      "text/plain": [
       "<Figure size 1080x288 with 1 Axes>"
      ]
     },
     "metadata": {
      "needs_background": "light"
     },
     "output_type": "display_data"
    }
   ],
   "source": [
    "%matplotlib inline\n",
    "plt.figure(figsize=(15, 4))\n",
    "plt.plot(time/targ['pl_orbper'], flux)\n",
    "plt.axvline(0.5, color='k', alpha=0.5)\n",
    "#plt.ylim(0.988, 1.001)\n",
    "plt.grid()"
   ]
  },
  {
   "cell_type": "code",
   "execution_count": null,
   "id": "97878322",
   "metadata": {},
   "outputs": [],
   "source": []
  },
  {
   "cell_type": "code",
   "execution_count": null,
   "id": "e3ec4135",
   "metadata": {},
   "outputs": [],
   "source": []
  },
  {
   "cell_type": "code",
   "execution_count": 32,
   "id": "22e30070",
   "metadata": {},
   "outputs": [],
   "source": [
    "signal_ts_scatter_binned, time_bin_edges, _ = stats.binned_statistic(time, signal_ts_scatter*flux, bins=25)\n",
    "time_bin_width = np.mean(np.diff(time_bin_edges))\n",
    "time_binned = time_bin_edges[:-1] + time_bin_width/2"
   ]
  },
  {
   "cell_type": "code",
   "execution_count": 33,
   "id": "4a587126",
   "metadata": {},
   "outputs": [
    {
     "data": {
      "text/plain": [
       "[<matplotlib.lines.Line2D at 0x7fc6aaeb81c0>]"
      ]
     },
     "execution_count": 33,
     "metadata": {},
     "output_type": "execute_result"
    },
    {
     "data": {
      "image/png": "[encoded data removed]",
      "text/plain": [
       "<Figure size 432x288 with 1 Axes>"
      ]
     },
     "metadata": {
      "needs_background": "light"
     },
     "output_type": "display_data"
    }
   ],
   "source": [
    "plt.plot(time, signal_ts_scatter*flux/signal, '.', alpha=0.5)\n",
    "plt.plot(time_binned, signal_ts_scatter_binned/signal, 'o', alpha=1, color='darkblue')\n",
    "plt.plot(time, signal_ts*flux/signal, '-', lw=3)"
   ]
  },
  {
   "cell_type": "code",
   "execution_count": 34,
   "id": "021e42f1",
   "metadata": {},
   "outputs": [
    {
     "data": {
      "text/latex": [
       "$14.933114 \\; \\mathrm{\\mu m}$"
      ],
      "text/plain": [
       "<Quantity 14.93311355 micron>"
      ]
     },
     "execution_count": 34,
     "metadata": {},
     "output_type": "execute_result"
    }
   ],
   "source": [
    "wave_range = np.linspace(0.7, 25, 100) *u.micron\n",
    "Fp_Fs_rock = flux_amplitude(targ['st_teff']*u.K, T_rock, wave_range, targ['st_rad']*u.R_sun, targ['pl_rade']*u.R_earth)\n",
    "Fp_Fs_atmo = flux_amplitude(targ['st_teff']*u.K, T_atmo, wave_range, targ['st_rad']*u.R_sun, targ['pl_rade']*u.R_earth)\n",
    "\n",
    "yerr = 1/report['scalar']['sn'] / np.sqrt(nint) / np.sqrt(nobs)\n",
    "ref_wave"
   ]
  },
  {
   "cell_type": "code",
   "execution_count": 35,
   "id": "654bd4f3",
   "metadata": {},
   "outputs": [
    {
     "data": {
      "image/png": "[encoded data removed]",
      "text/plain": [
       "<Figure size 864x576 with 1 Axes>"
      ]
     },
     "metadata": {
      "needs_background": "light"
     },
     "output_type": "display_data"
    }
   ],
   "source": [
    "plt.figure(figsize=(12, 8))\n",
    "plt.plot(wave_range, Fp_Fs_rock, lw=3, color='C3')\n",
    "plt.plot(wave_range, Fp_Fs_atmo, lw=3, color='C0')\n",
    "\n",
    "\n",
    "plt.errorbar(ref_wave.value, amp_rock, yerr=yerr.value, fmt='.', color='k', alpha=0.8)\n",
    "\n",
    "plt.ylabel('$F_p$/$F_s$', fontsize=14)\n",
    "plt.xlabel('Wavelength ($\\mu$m)', fontsize=14)\n",
    "plt.title(targ['pl_name']+f', dayside temp of bare rock = {T_rock}', fontsize=16)\n",
    "\n",
    "plt.xlim(0.7, 25)\n",
    "plt.grid(alpha=0.5)"
   ]
  },
  {
   "cell_type": "code",
   "execution_count": 36,
   "id": "5e158aa6",
   "metadata": {},
   "outputs": [
    {
     "data": {
      "text/plain": [
       "(<Quantity 2.56308583e-17 erg / (Angstrom cm2 s)>, <Quantity 569.62543037>)"
      ]
     },
     "execution_count": 36,
     "metadata": {},
     "output_type": "execute_result"
    }
   ],
   "source": [
    "signal, nint"
   ]
  },
  {
   "cell_type": "code",
   "execution_count": 37,
   "id": "b52fd712",
   "metadata": {},
   "outputs": [
    {
     "data": {
      "text/latex": [
       "$0.00053030067 \\; \\mathrm{}$"
      ],
      "text/plain": [
       "<Quantity 0.0005303>"
      ]
     },
     "execution_count": 37,
     "metadata": {},
     "output_type": "execute_result"
    }
   ],
   "source": [
    "noise / signal"
   ]
  },
  {
   "cell_type": "code",
   "execution_count": 38,
   "id": "24957a68",
   "metadata": {},
   "outputs": [
    {
     "data": {
      "text/latex": [
       "$1885.7227 \\; \\mathrm{}$"
      ],
      "text/plain": [
       "<Quantity 1885.7226883>"
      ]
     },
     "execution_count": 38,
     "metadata": {},
     "output_type": "execute_result"
    }
   ],
   "source": [
    "signal/noise"
   ]
  },
  {
   "cell_type": "code",
   "execution_count": 39,
   "id": "86f84b0b",
   "metadata": {},
   "outputs": [
    {
     "data": {
      "text/plain": [
       "1333.4073003340684"
      ]
     },
     "execution_count": 39,
     "metadata": {},
     "output_type": "execute_result"
    }
   ],
   "source": [
    "report['scalar']['sn'] "
   ]
  },
  {
   "cell_type": "code",
   "execution_count": 40,
   "id": "5d85482b",
   "metadata": {},
   "outputs": [
    {
     "data": {
      "text/latex": [
       "$1.1109576 \\times 10^{-5} \\; \\mathrm{}$"
      ],
      "text/plain": [
       "<Quantity 1.11095762e-05>"
      ]
     },
     "execution_count": 40,
     "metadata": {},
     "output_type": "execute_result"
    }
   ],
   "source": [
    "noise/signal / np.sqrt(nint) / np.sqrt(4)\n"
   ]
  },
  {
   "cell_type": "code",
   "execution_count": 41,
   "id": "2f6dc29d",
   "metadata": {},
   "outputs": [
    {
     "data": {
      "text/plain": [
       "0.0001"
      ]
     },
     "execution_count": 41,
     "metadata": {},
     "output_type": "execute_result"
    }
   ],
   "source": [
    "100e-6"
   ]
  },
  {
   "cell_type": "code",
   "execution_count": 42,
   "id": "6bf71cec",
   "metadata": {},
   "outputs": [
    {
     "data": {
      "text/plain": [
       "0.019149999999999997"
      ]
     },
     "execution_count": 42,
     "metadata": {},
     "output_type": "execute_result"
    }
   ],
   "source": [
    "7.66e-6 / 4e-4"
   ]
  },
  {
   "cell_type": "code",
   "execution_count": 43,
   "id": "3e1f968f",
   "metadata": {},
   "outputs": [
    {
     "data": {
      "text/html": [
       "<i>Row index=2</i>\n",
       "<table id=\"table140492909114848\">\n",
       "<thead><tr><th>hostname</th><th>pl_name</th><th>sy_dist</th><th>rastr</th><th>decstr</th><th>sy_kmag</th><th>st_mass</th><th>st_rad</th><th>st_teff</th><th>pl_rade</th><th>pl_bmasse</th><th>pl_orbper</th><th>pl_orbsmax</th><th>pl_orbincl</th><th>tran_flag</th><th>rv_flag</th></tr></thead>\n",
       "<thead><tr><th>str10</th><th>str12</th><th>float64</th><th>str12</th><th>str13</th><th>float64</th><th>float64</th><th>float64</th><th>float64</th><th>float64</th><th>float64</th><th>float64</th><th>float64</th><th>float64</th><th>int64</th><th>int64</th></tr></thead>\n",
       "<tr><td>GJ 3929</td><td>GJ 3929 b</td><td>15.8095</td><td>15h58m18.62s</td><td>+35d24m29.21s</td><td>7.869</td><td>0.31</td><td>0.32</td><td>3384.0</td><td>1.09</td><td>1.75</td><td>2.616235</td><td>0.0252</td><td>88.442</td><td>1</td><td>1</td></tr>\n",
       "</table>"
      ],
      "text/plain": [
       "<Row index=2>\n",
       "hostname  pl_name  sy_dist    rastr         decstr    sy_kmag st_mass  st_rad st_teff pl_rade pl_bmasse pl_orbper pl_orbsmax pl_orbincl tran_flag rv_flag\n",
       " str10     str12   float64    str12         str13     float64 float64 float64 float64 float64  float64   float64   float64    float64     int64    int64 \n",
       "-------- --------- ------- ------------ ------------- ------- ------- ------- ------- ------- --------- --------- ---------- ---------- --------- -------\n",
       " GJ 3929 GJ 3929 b 15.8095 15h58m18.62s +35d24m29.21s   7.869    0.31    0.32  3384.0    1.09      1.75  2.616235     0.0252     88.442         1       1"
      ]
     },
     "execution_count": 43,
     "metadata": {},
     "output_type": "execute_result"
    }
   ],
   "source": [
    "targ"
   ]
  },
  {
   "cell_type": "code",
   "execution_count": null,
   "id": "aba0c2f0",
   "metadata": {},
   "outputs": [],
   "source": []
  }
 ],
 "metadata": {
  "kernelspec": {
   "display_name": "Python 3",
   "language": "python",
   "name": "python3"
  },
  "language_info": {
   "codemirror_mode": {
    "name": "ipython",
    "version": 3
   },
   "file_extension": ".py",
   "mimetype": "text/x-python",
   "name": "python",
   "nbconvert_exporter": "python",
   "pygments_lexer": "ipython3",
   "version": "3.8.8"
  }
 },
 "nbformat": 4,
 "nbformat_minor": 5
}
